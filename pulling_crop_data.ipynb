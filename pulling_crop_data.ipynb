{
 "cells": [
  {
   "cell_type": "markdown",
   "metadata": {},
   "source": [
    "## Pulling Crop Data from BigQuery"
   ]
  },
  {
   "cell_type": "markdown",
   "metadata": {},
   "source": [
    "- Exploration of pulling crop data from WASDE_MAIN, from google bigquery"
   ]
  },
  {
   "cell_type": "markdown",
   "metadata": {},
   "source": [
    "#### Import statments"
   ]
  },
  {
   "cell_type": "code",
   "execution_count": 15,
   "metadata": {},
   "outputs": [],
   "source": [
    "import pandas as pd \n",
    "import numpy as np\n",
    "import google.auth\n",
    "import google.oauth2.credentials\n",
    "import pandas_gbq as gbq\n",
    "import pydata_google_auth\n",
    "import tqdm"
   ]
  },
  {
   "cell_type": "markdown",
   "metadata": {},
   "source": [
    "#### Setting up GBQ requirements"
   ]
  },
  {
   "cell_type": "code",
   "execution_count": 24,
   "metadata": {},
   "outputs": [],
   "source": [
    "\n",
    "SCOPES = [\n",
    "    'https://www.googleapis.com/auth/cloud-platform',\n",
    "    'https://www.googleapis.com/auth/drive',\n",
    "]\n",
    "\n",
    "credentials = pydata_google_auth.get_user_credentials(\n",
    "    SCOPES,\n",
    "    # Set auth_local_webserver to True to have a slightly more convienient\n",
    "    # authorization flow. Note, this doesn't work if you're running from a\n",
    "    # notebook on a remote sever, such as over SSH or with Google Colab.\n",
    "    auth_local_webserver=True,\n",
    ")\n",
    "gbq.context.credentials = credentials\n",
    "gbq.context.project = \"caleb-database-project-1\""
   ]
  },
  {
   "cell_type": "markdown",
   "metadata": {},
   "source": [
    "Pulling Data from GBQ"
   ]
  },
  {
   "cell_type": "code",
   "execution_count": 7,
   "metadata": {},
   "outputs": [
    {
     "name": "stderr",
     "output_type": "stream",
     "text": [
      "Downloading: 100%|██████████| 52/52 [00:00<00:00, 127.05rows/s]\n",
      "Downloading: 100%|██████████| 62/62 [00:00<00:00, 168.37rows/s]\n",
      "Downloading: 100%|██████████| 130/130 [00:00<00:00, 367.50rows/s]\n",
      "Downloading: 100%|██████████| 12/12 [00:00<00:00, 31.83rows/s]\n"
     ]
    }
   ],
   "source": [
    "wasde_main = \"`caleb-database-project-1.USDA_CLEANED.WASDE_MAIN`\"\n",
    "\n",
    "region_names = gbq.read_gbq(\"SELECT DISTINCT Region FROM\" + wasde_main)\n",
    "commodty_names = gbq.read_gbq(\"SELECT DISTINCT Commodity FROM\" + wasde_main)\n",
    "attr_names = gbq.read_gbq(\"SELECT DISTINCT Attribute FROM\" + wasde_main)\n",
    "projection_names = gbq.read_gbq(\"SELECT DISTINCT ReliabilityProjection\t FROM\" + wasde_main)"
   ]
  },
  {
   "cell_type": "markdown",
   "metadata": {},
   "source": [
    "%store helps to store dataframes so constant querying is not required"
   ]
  },
  {
   "cell_type": "code",
   "execution_count": 9,
   "metadata": {},
   "outputs": [
    {
     "name": "stdout",
     "output_type": "stream",
     "text": [
      "Stored 'region_names' (DataFrame)\n",
      "Stored 'commodty_names' (DataFrame)\n",
      "Stored 'attr_names' (DataFrame)\n",
      "Stored 'projection_names' (DataFrame)\n"
     ]
    }
   ],
   "source": [
    "%store region_names\n",
    "%store commodty_names\n",
    "%store attr_names\n",
    "%store projection_names"
   ]
  },
  {
   "cell_type": "markdown",
   "metadata": {},
   "source": [
    "run code below to pull saved dataframes"
   ]
  },
  {
   "cell_type": "code",
   "execution_count": 4,
   "metadata": {},
   "outputs": [],
   "source": [
    "%store -r region_names\n",
    "%store -r commodty_names\n",
    "%store -r attr_names\n",
    "%store -r projection_names"
   ]
  },
  {
   "cell_type": "markdown",
   "metadata": {},
   "source": [
    "#### Shortlisted countries and respective commodities available\n",
    "\n"
   ]
  },
  {
   "cell_type": "markdown",
   "metadata": {},
   "source": [
    "Southeast Asia, Indonesia, Thailand, Vietnam, Burma, Philippines, Australia, India\n",
    "\n",
    "United States, Argentina, Brazil, Mexico\n",
    "\n",
    "___\n",
    "\n",
    "Southeast Asia: Coarse Grain, Corn, Soybean Meal, Wheat, Oilseed, Soybean\n",
    "\n",
    "Indonesia: Rice, Cotton\n",
    "\n",
    "Thailand: Rice, Cotton\n",
    "\n",
    "Vietnam: Rice, Cotton\n",
    "\n",
    "Burma: Rice\n",
    "\n",
    "Philippines: Rice\n",
    "\n",
    "Australia: Coarse Grain, Cotton, Wheat\n",
    "\n",
    "India: Cotton, Rice, Soybean Meal, Soybean Oil, Wheat\n",
    "___\n",
    "\n",
    "United States: 'Coarse Grain', 'Cotton', 'Oilseed, Soybean', 'RICE, milled',\n",
    "       'Wheat', 'Barley', 'Beef', 'Broiler', 'Corn', 'Eggs',\n",
    "       'Meal, Soybean', 'Milk', 'Oats', 'Oil, Soybean', 'Pork', 'Sorghum',\n",
    "       'Turkey', 'Butter', 'Cheese', 'Dry Whey', 'Milk, Class III',\n",
    "       'Milk, Class IV', 'Nonfat Dry Milk', 'Feed Grains',\n",
    "       'Red Meat & Poultry', 'Total Poultry', 'Total Red Meat',\n",
    "       'Dry Whole Milk', 'Milk, Fat Basis', 'Milk, Skim-Soild Basis',\n",
    "       'Red Meat', 'Barrows and gilts', 'Steers', 'Rice, Long',\n",
    "       'Rice, Med and Short', 'Rice, Rough', 'Sugar', 'Coarse Grains',\n",
    "       'Rice, milled', 'Total Grains', 'Oilmeals', 'Oilseeds',\n",
    "       'Vegetable Oils', 'Rice', 'Soybean Meal', 'Soybean Oil', 'Total',\n",
    "       'Wheat, Durum', 'Wheat, Hard Red Spring', 'Wheat, Hard Red Winter',\n",
    "       'Wheat, Soft Red Winter', 'Wheat, White', 'Hard Red Spring',\n",
    "       'Hard Red Winter', 'Soft Red Winter', 'BEEF', 'BROILER', 'PORK',\n",
    "       'TOTAL POULTRY', 'TOTAL RED MEAT', 'TURKEY', 'Choice steers'\n",
    "\n",
    "Argentina: Coarse Grain, Corn, Soybean Meal, Soybean Oil, Oilseed, Soybean, Wheat\n",
    "\n",
    "Brazil: Coarse Grain, Corn, Cotton, Rice, Soybean Meal, Soybean Oil, Oilseed, Soybean, Wheat\n",
    "\n",
    "Mexico: Coarse Grain, Corn, Cotton, Rice, Oilseed, Soybean, Sugar, Soybean Meal\n",
    "\n",
    "Attributes:\n",
    "Ending Stocks, Exports, Production, Imports, Yield"
   ]
  },
  {
   "cell_type": "markdown",
   "metadata": {},
   "source": [
    "#### Defining functions for visualisation"
   ]
  },
  {
   "cell_type": "code",
   "execution_count": 16,
   "metadata": {},
   "outputs": [
    {
     "data": {
      "text/html": [
       "        <script type=\"text/javascript\">\n",
       "        window.PlotlyConfig = {MathJaxConfig: 'local'};\n",
       "        if (window.MathJax && window.MathJax.Hub && window.MathJax.Hub.Config) {window.MathJax.Hub.Config({SVG: {font: \"STIX-Web\"}});}\n",
       "        if (typeof require !== 'undefined') {\n",
       "        require.undef(\"plotly\");\n",
       "        requirejs.config({\n",
       "            paths: {\n",
       "                'plotly': ['https://cdn.plot.ly/plotly-2.12.1.min']\n",
       "            }\n",
       "        });\n",
       "        require(['plotly'], function(Plotly) {\n",
       "            window._Plotly = Plotly;\n",
       "        });\n",
       "        }\n",
       "        </script>\n",
       "        "
      ]
     },
     "metadata": {},
     "output_type": "display_data"
    }
   ],
   "source": [
    "import plotly\n",
    "import plotly.offline as pyo\n",
    "import plotly.graph_objects as go\n",
    "from plotly.subplots import make_subplots\n",
    "import plotly.express as px\n",
    "\n",
    "pyo.init_notebook_mode(connected=True)\n",
    "pd.options.plotting.backend = 'plotly'"
   ]
  },
  {
   "cell_type": "code",
   "execution_count": 30,
   "metadata": {},
   "outputs": [],
   "source": [
    "def get_country_data(country):\n",
    "    '''\n",
    "    obtain dataframe for specified country\n",
    "    '''\n",
    "    df = gbq.read_gbq(\n",
    "        \"select * FROM\" + wasde_main +\n",
    "        \"where Region = '\" + country + \"'\"\n",
    "    ) \n",
    "    return df\n",
    "\n",
    "def get_commodty_attr(country, commodity, attr, ProjEstFlag = None):\n",
    "    '''\n",
    "    filter for specified country dataframe, commodity and attribute\n",
    "    '''\n",
    "\n",
    "    if ProjEstFlag is None:\n",
    "            df = country.loc[(country['ProjEstFlag'].isnull()) & (country['Commodity'] == commodity) & (country['Attribute'] == attr) & (country['ReliabilityProjection'].isnull())\n",
    "                    & (country['Unit'] == 'Million Metric Tons')]\n",
    "    else:\n",
    "        df = country.loc[(country['ProjEstFlag'] == ProjEstFlag) & (country['Commodity'] == commodity) & (country['Attribute'] == attr) & (country['ReliabilityProjection'].isnull())\n",
    "                        & (country['Unit'] == 'Million Metric Tons')]\n",
    "\n",
    "    # convert ReleaseDate to datetime\n",
    "    df['ReleaseDate'] = pd.to_datetime(df['ReleaseDate'])\n",
    "\n",
    "    # set ReleaseDate as the index\n",
    "    df = df.set_index('ReleaseDate').sort_index()\n",
    "\n",
    "    # change value to float\n",
    "    df['Value'] = df.Value.astype(float)\n",
    "\n",
    "    return df\n",
    "\n",
    "\n",
    "def plot_values(df):\n",
    "    '''\n",
    "    plot filtered commodity data using plotly\n",
    "    '''\n",
    "    fig = px.line(df, x = df.index, y = 'Value', hover_data=[\"MarketYear\"])\n",
    "    fig.update_layout(title = f\"{df.Region[0]} {df.Commodity[0]} {df.Attribute[0]} ({df.ProjEstFlag[0]})\")\n",
    "    return fig"
   ]
  },
  {
   "cell_type": "markdown",
   "metadata": {},
   "source": [
    "Use brazil_df as an example"
   ]
  },
  {
   "cell_type": "code",
   "execution_count": 31,
   "metadata": {},
   "outputs": [
    {
     "data": {
      "text/html": [
       "<div>\n",
       "<style scoped>\n",
       "    .dataframe tbody tr th:only-of-type {\n",
       "        vertical-align: middle;\n",
       "    }\n",
       "\n",
       "    .dataframe tbody tr th {\n",
       "        vertical-align: top;\n",
       "    }\n",
       "\n",
       "    .dataframe thead th {\n",
       "        text-align: right;\n",
       "    }\n",
       "</style>\n",
       "<table border=\"1\" class=\"dataframe\">\n",
       "  <thead>\n",
       "    <tr style=\"text-align: right;\">\n",
       "      <th></th>\n",
       "      <th>WasdeNumber</th>\n",
       "      <th>ReportDate</th>\n",
       "      <th>ReportTitle</th>\n",
       "      <th>Attribute</th>\n",
       "      <th>ReliabilityProjection</th>\n",
       "      <th>Commodity</th>\n",
       "      <th>Region</th>\n",
       "      <th>MarketYear</th>\n",
       "      <th>ProjEstFlag</th>\n",
       "      <th>AnnualQuarterFlag</th>\n",
       "      <th>Value</th>\n",
       "      <th>Unit</th>\n",
       "      <th>ReleaseDate</th>\n",
       "      <th>ReleaseTime</th>\n",
       "      <th>ForecastYear</th>\n",
       "      <th>ForecastMonth</th>\n",
       "    </tr>\n",
       "  </thead>\n",
       "  <tbody>\n",
       "    <tr>\n",
       "      <th>0</th>\n",
       "      <td>512</td>\n",
       "      <td>November 2012</td>\n",
       "      <td>World Coarse Grain Supply and Use</td>\n",
       "      <td>Beginning Stocks</td>\n",
       "      <td>None</td>\n",
       "      <td>Coarse Grain</td>\n",
       "      <td>Brazil</td>\n",
       "      <td>2010/11</td>\n",
       "      <td>None</td>\n",
       "      <td>Annual</td>\n",
       "      <td>10.29</td>\n",
       "      <td>Million Metric Tons</td>\n",
       "      <td>2012-11-09</td>\n",
       "      <td>08:30:00.0000000</td>\n",
       "      <td>2012</td>\n",
       "      <td>11</td>\n",
       "    </tr>\n",
       "    <tr>\n",
       "      <th>1</th>\n",
       "      <td>512</td>\n",
       "      <td>November 2012</td>\n",
       "      <td>World Coarse Grain Supply and Use</td>\n",
       "      <td>Domestic Feed</td>\n",
       "      <td>None</td>\n",
       "      <td>Coarse Grain</td>\n",
       "      <td>Brazil</td>\n",
       "      <td>2010/11</td>\n",
       "      <td>None</td>\n",
       "      <td>Annual</td>\n",
       "      <td>45.06</td>\n",
       "      <td>Million Metric Tons</td>\n",
       "      <td>2012-11-09</td>\n",
       "      <td>08:30:00.0000000</td>\n",
       "      <td>2012</td>\n",
       "      <td>11</td>\n",
       "    </tr>\n",
       "    <tr>\n",
       "      <th>2</th>\n",
       "      <td>512</td>\n",
       "      <td>November 2012</td>\n",
       "      <td>World Coarse Grain Supply and Use</td>\n",
       "      <td>Domestic Total</td>\n",
       "      <td>None</td>\n",
       "      <td>Coarse Grain</td>\n",
       "      <td>Brazil</td>\n",
       "      <td>2010/11</td>\n",
       "      <td>None</td>\n",
       "      <td>Annual</td>\n",
       "      <td>52.73</td>\n",
       "      <td>Million Metric Tons</td>\n",
       "      <td>2012-11-09</td>\n",
       "      <td>08:30:00.0000000</td>\n",
       "      <td>2012</td>\n",
       "      <td>11</td>\n",
       "    </tr>\n",
       "    <tr>\n",
       "      <th>3</th>\n",
       "      <td>512</td>\n",
       "      <td>November 2012</td>\n",
       "      <td>World Coarse Grain Supply and Use</td>\n",
       "      <td>Ending Stocks</td>\n",
       "      <td>None</td>\n",
       "      <td>Coarse Grain</td>\n",
       "      <td>Brazil</td>\n",
       "      <td>2010/11</td>\n",
       "      <td>None</td>\n",
       "      <td>Annual</td>\n",
       "      <td>10.64</td>\n",
       "      <td>Million Metric Tons</td>\n",
       "      <td>2012-11-09</td>\n",
       "      <td>08:30:00.0000000</td>\n",
       "      <td>2012</td>\n",
       "      <td>11</td>\n",
       "    </tr>\n",
       "    <tr>\n",
       "      <th>4</th>\n",
       "      <td>512</td>\n",
       "      <td>November 2012</td>\n",
       "      <td>World Coarse Grain Supply and Use</td>\n",
       "      <td>Exports</td>\n",
       "      <td>None</td>\n",
       "      <td>Coarse Grain</td>\n",
       "      <td>Brazil</td>\n",
       "      <td>2010/11</td>\n",
       "      <td>None</td>\n",
       "      <td>Annual</td>\n",
       "      <td>8.42</td>\n",
       "      <td>Million Metric Tons</td>\n",
       "      <td>2012-11-09</td>\n",
       "      <td>08:30:00.0000000</td>\n",
       "      <td>2012</td>\n",
       "      <td>11</td>\n",
       "    </tr>\n",
       "    <tr>\n",
       "      <th>...</th>\n",
       "      <td>...</td>\n",
       "      <td>...</td>\n",
       "      <td>...</td>\n",
       "      <td>...</td>\n",
       "      <td>...</td>\n",
       "      <td>...</td>\n",
       "      <td>...</td>\n",
       "      <td>...</td>\n",
       "      <td>...</td>\n",
       "      <td>...</td>\n",
       "      <td>...</td>\n",
       "      <td>...</td>\n",
       "      <td>...</td>\n",
       "      <td>...</td>\n",
       "      <td>...</td>\n",
       "      <td>...</td>\n",
       "    </tr>\n",
       "    <tr>\n",
       "      <th>23050</th>\n",
       "      <td>511</td>\n",
       "      <td>October 2012</td>\n",
       "      <td>World Wheat Supply and Use</td>\n",
       "      <td>Domestic Total</td>\n",
       "      <td>None</td>\n",
       "      <td>Wheat</td>\n",
       "      <td>Brazil</td>\n",
       "      <td>2012/13</td>\n",
       "      <td>Proj.</td>\n",
       "      <td>Annual</td>\n",
       "      <td>11.00</td>\n",
       "      <td>Million Metric Tons</td>\n",
       "      <td>2012-10-11</td>\n",
       "      <td>08:30:00.0000000</td>\n",
       "      <td>2012</td>\n",
       "      <td>10</td>\n",
       "    </tr>\n",
       "    <tr>\n",
       "      <th>23051</th>\n",
       "      <td>511</td>\n",
       "      <td>October 2012</td>\n",
       "      <td>World Wheat Supply and Use</td>\n",
       "      <td>Ending Stocks</td>\n",
       "      <td>None</td>\n",
       "      <td>Wheat</td>\n",
       "      <td>Brazil</td>\n",
       "      <td>2012/13</td>\n",
       "      <td>Proj.</td>\n",
       "      <td>Annual</td>\n",
       "      <td>1.26</td>\n",
       "      <td>Million Metric Tons</td>\n",
       "      <td>2012-10-11</td>\n",
       "      <td>08:30:00.0000000</td>\n",
       "      <td>2012</td>\n",
       "      <td>10</td>\n",
       "    </tr>\n",
       "    <tr>\n",
       "      <th>23052</th>\n",
       "      <td>511</td>\n",
       "      <td>October 2012</td>\n",
       "      <td>World Wheat Supply and Use</td>\n",
       "      <td>Exports</td>\n",
       "      <td>None</td>\n",
       "      <td>Wheat</td>\n",
       "      <td>Brazil</td>\n",
       "      <td>2012/13</td>\n",
       "      <td>Proj.</td>\n",
       "      <td>Annual</td>\n",
       "      <td>1.50</td>\n",
       "      <td>Million Metric Tons</td>\n",
       "      <td>2012-10-11</td>\n",
       "      <td>08:30:00.0000000</td>\n",
       "      <td>2012</td>\n",
       "      <td>10</td>\n",
       "    </tr>\n",
       "    <tr>\n",
       "      <th>23053</th>\n",
       "      <td>511</td>\n",
       "      <td>October 2012</td>\n",
       "      <td>World Wheat Supply and Use</td>\n",
       "      <td>Imports</td>\n",
       "      <td>None</td>\n",
       "      <td>Wheat</td>\n",
       "      <td>Brazil</td>\n",
       "      <td>2012/13</td>\n",
       "      <td>Proj.</td>\n",
       "      <td>Annual</td>\n",
       "      <td>7.00</td>\n",
       "      <td>Million Metric Tons</td>\n",
       "      <td>2012-10-11</td>\n",
       "      <td>08:30:00.0000000</td>\n",
       "      <td>2012</td>\n",
       "      <td>10</td>\n",
       "    </tr>\n",
       "    <tr>\n",
       "      <th>23054</th>\n",
       "      <td>511</td>\n",
       "      <td>October 2012</td>\n",
       "      <td>World Wheat Supply and Use</td>\n",
       "      <td>Production</td>\n",
       "      <td>None</td>\n",
       "      <td>Wheat</td>\n",
       "      <td>Brazil</td>\n",
       "      <td>2012/13</td>\n",
       "      <td>Proj.</td>\n",
       "      <td>Annual</td>\n",
       "      <td>5.00</td>\n",
       "      <td>Million Metric Tons</td>\n",
       "      <td>2012-10-11</td>\n",
       "      <td>08:30:00.0000000</td>\n",
       "      <td>2012</td>\n",
       "      <td>10</td>\n",
       "    </tr>\n",
       "  </tbody>\n",
       "</table>\n",
       "<p>23055 rows × 16 columns</p>\n",
       "</div>"
      ],
      "text/plain": [
       "       WasdeNumber     ReportDate                        ReportTitle  \\\n",
       "0              512  November 2012  World Coarse Grain Supply and Use   \n",
       "1              512  November 2012  World Coarse Grain Supply and Use   \n",
       "2              512  November 2012  World Coarse Grain Supply and Use   \n",
       "3              512  November 2012  World Coarse Grain Supply and Use   \n",
       "4              512  November 2012  World Coarse Grain Supply and Use   \n",
       "...            ...            ...                                ...   \n",
       "23050          511   October 2012         World Wheat Supply and Use   \n",
       "23051          511   October 2012         World Wheat Supply and Use   \n",
       "23052          511   October 2012         World Wheat Supply and Use   \n",
       "23053          511   October 2012         World Wheat Supply and Use   \n",
       "23054          511   October 2012         World Wheat Supply and Use   \n",
       "\n",
       "              Attribute ReliabilityProjection     Commodity  Region  \\\n",
       "0      Beginning Stocks                  None  Coarse Grain  Brazil   \n",
       "1         Domestic Feed                  None  Coarse Grain  Brazil   \n",
       "2        Domestic Total                  None  Coarse Grain  Brazil   \n",
       "3         Ending Stocks                  None  Coarse Grain  Brazil   \n",
       "4               Exports                  None  Coarse Grain  Brazil   \n",
       "...                 ...                   ...           ...     ...   \n",
       "23050    Domestic Total                  None         Wheat  Brazil   \n",
       "23051     Ending Stocks                  None         Wheat  Brazil   \n",
       "23052           Exports                  None         Wheat  Brazil   \n",
       "23053           Imports                  None         Wheat  Brazil   \n",
       "23054        Production                  None         Wheat  Brazil   \n",
       "\n",
       "      MarketYear ProjEstFlag AnnualQuarterFlag  Value                 Unit  \\\n",
       "0        2010/11        None            Annual  10.29  Million Metric Tons   \n",
       "1        2010/11        None            Annual  45.06  Million Metric Tons   \n",
       "2        2010/11        None            Annual  52.73  Million Metric Tons   \n",
       "3        2010/11        None            Annual  10.64  Million Metric Tons   \n",
       "4        2010/11        None            Annual   8.42  Million Metric Tons   \n",
       "...          ...         ...               ...    ...                  ...   \n",
       "23050    2012/13       Proj.            Annual  11.00  Million Metric Tons   \n",
       "23051    2012/13       Proj.            Annual   1.26  Million Metric Tons   \n",
       "23052    2012/13       Proj.            Annual   1.50  Million Metric Tons   \n",
       "23053    2012/13       Proj.            Annual   7.00  Million Metric Tons   \n",
       "23054    2012/13       Proj.            Annual   5.00  Million Metric Tons   \n",
       "\n",
       "      ReleaseDate       ReleaseTime  ForecastYear  ForecastMonth  \n",
       "0      2012-11-09  08:30:00.0000000          2012             11  \n",
       "1      2012-11-09  08:30:00.0000000          2012             11  \n",
       "2      2012-11-09  08:30:00.0000000          2012             11  \n",
       "3      2012-11-09  08:30:00.0000000          2012             11  \n",
       "4      2012-11-09  08:30:00.0000000          2012             11  \n",
       "...           ...               ...           ...            ...  \n",
       "23050  2012-10-11  08:30:00.0000000          2012             10  \n",
       "23051  2012-10-11  08:30:00.0000000          2012             10  \n",
       "23052  2012-10-11  08:30:00.0000000          2012             10  \n",
       "23053  2012-10-11  08:30:00.0000000          2012             10  \n",
       "23054  2012-10-11  08:30:00.0000000          2012             10  \n",
       "\n",
       "[23055 rows x 16 columns]"
      ]
     },
     "execution_count": 31,
     "metadata": {},
     "output_type": "execute_result"
    }
   ],
   "source": [
    "brazil_df"
   ]
  },
  {
   "cell_type": "code",
   "execution_count": 1,
   "metadata": {},
   "outputs": [
    {
     "name": "stderr",
     "output_type": "stream",
     "text": [
      "UsageError: Unknown variable 'brazil_df'\n"
     ]
    }
   ],
   "source": [
    "#brazil_df = get_country_data('Brazil')\n",
    "#%store brazil_df"
   ]
  },
  {
   "cell_type": "code",
   "execution_count": 2,
   "metadata": {},
   "outputs": [],
   "source": [
    "%store -r brazil_df"
   ]
  },
  {
   "cell_type": "code",
   "execution_count": 10,
   "metadata": {},
   "outputs": [
    {
     "data": {
      "text/plain": [
       "array(['Beginning Stocks', 'Domestic Feed', 'Domestic Total',\n",
       "       'Ending Stocks', 'Exports', 'Imports', 'Production',\n",
       "       'Domestic Use', 'Loss', 'Total  Domestic', 'Domestic Crush'],\n",
       "      dtype=object)"
      ]
     },
     "execution_count": 10,
     "metadata": {},
     "output_type": "execute_result"
    }
   ],
   "source": [
    "brazil_df['Attribute'].unique()"
   ]
  },
  {
   "cell_type": "code",
   "execution_count": 32,
   "metadata": {},
   "outputs": [
    {
     "name": "stderr",
     "output_type": "stream",
     "text": [
      "C:\\Users\\raych\\AppData\\Local\\Temp\\ipykernel_11308\\3270399950.py:24: SettingWithCopyWarning:\n",
      "\n",
      "\n",
      "A value is trying to be set on a copy of a slice from a DataFrame.\n",
      "Try using .loc[row_indexer,col_indexer] = value instead\n",
      "\n",
      "See the caveats in the documentation: https://pandas.pydata.org/pandas-docs/stable/user_guide/indexing.html#returning-a-view-versus-a-copy\n",
      "\n",
      "C:\\Users\\raych\\AppData\\Local\\Temp\\ipykernel_11308\\3270399950.py:24: SettingWithCopyWarning:\n",
      "\n",
      "\n",
      "A value is trying to be set on a copy of a slice from a DataFrame.\n",
      "Try using .loc[row_indexer,col_indexer] = value instead\n",
      "\n",
      "See the caveats in the documentation: https://pandas.pydata.org/pandas-docs/stable/user_guide/indexing.html#returning-a-view-versus-a-copy\n",
      "\n"
     ]
    }
   ],
   "source": [
    "country_df_actual_values = get_commodty_attr(brazil_df, 'Corn', 'Production')\n",
    "country_df_proj_values = get_commodty_attr(brazil_df, 'Corn', 'Production', 'Proj.')"
   ]
  },
  {
   "cell_type": "code",
   "execution_count": 33,
   "metadata": {},
   "outputs": [
    {
     "data": {
      "application/vnd.plotly.v1+json": {
       "config": {
        "plotlyServerURL": "https://plotly.com"
       },
       "data": [
        {
         "customdata": [
          [
           "2008/09"
          ],
          [
           "2007/08"
          ],
          [
           "2009/10"
          ],
          [
           "2010/11"
          ],
          [
           "2009/10"
          ],
          [
           "2008/09"
          ],
          [
           "2008/09"
          ],
          [
           "2009/10"
          ],
          [
           "2010/11"
          ],
          [
           "2008/09"
          ],
          [
           "2009/10"
          ],
          [
           "2010/11"
          ],
          [
           "2010/11"
          ],
          [
           "2008/09"
          ],
          [
           "2009/10"
          ],
          [
           "2008/09"
          ],
          [
           "2009/10"
          ],
          [
           "2010/11"
          ],
          [
           "2008/09"
          ],
          [
           "2009/10"
          ],
          [
           "2010/11"
          ],
          [
           "2008/09"
          ],
          [
           "2009/10"
          ],
          [
           "2010/11"
          ],
          [
           "2010/11"
          ],
          [
           "2009/10"
          ],
          [
           "2008/09"
          ],
          [
           "2008/09"
          ],
          [
           "2008/09"
          ],
          [
           "2008/09"
          ],
          [
           "2008/09"
          ],
          [
           "2009/10"
          ],
          [
           "2009/10"
          ],
          [
           "2009/10"
          ],
          [
           "2009/10"
          ],
          [
           "2009/10"
          ],
          [
           "2009/10"
          ],
          [
           "2009/10"
          ],
          [
           "2009/10"
          ],
          [
           "2009/10"
          ],
          [
           "2009/10"
          ],
          [
           "2009/10"
          ],
          [
           "2009/10"
          ],
          [
           "2010/11"
          ],
          [
           "2010/11"
          ],
          [
           "2010/11"
          ],
          [
           "2010/11"
          ],
          [
           "2010/11"
          ],
          [
           "2010/11"
          ],
          [
           "2010/11"
          ],
          [
           "2010/11"
          ],
          [
           "2010/11"
          ],
          [
           "2010/11"
          ],
          [
           "2010/11"
          ],
          [
           "2010/11"
          ],
          [
           "2011/12"
          ],
          [
           "2011/12"
          ],
          [
           "2011/12"
          ],
          [
           "2011/12"
          ],
          [
           "2011/12"
          ],
          [
           "2011/12"
          ],
          [
           "2011/12"
          ],
          [
           "2011/12"
          ],
          [
           "2011/12"
          ],
          [
           "2011/12"
          ],
          [
           "2011/12"
          ],
          [
           "2012/13"
          ],
          [
           "2012/13"
          ],
          [
           "2012/13"
          ],
          [
           "2012/13"
          ],
          [
           "2012/13"
          ],
          [
           "2012/13"
          ],
          [
           "2012/13"
          ],
          [
           "2012/13"
          ],
          [
           "2012/13"
          ],
          [
           "2012/13"
          ],
          [
           "2012/13"
          ],
          [
           "2012/13"
          ],
          [
           "2013/14"
          ],
          [
           "2013/14"
          ],
          [
           "2013/14"
          ],
          [
           "2013/14"
          ],
          [
           "2013/14"
          ],
          [
           "2013/14"
          ],
          [
           "2013/14"
          ],
          [
           "2013/14"
          ],
          [
           "2013/14"
          ],
          [
           "2013/14"
          ],
          [
           "2013/14"
          ],
          [
           "2013/14"
          ],
          [
           "2014/15"
          ],
          [
           "2014/15"
          ],
          [
           "2014/15"
          ],
          [
           "2014/15"
          ],
          [
           "2014/15"
          ],
          [
           "2014/15"
          ],
          [
           "2014/15"
          ],
          [
           "2014/15"
          ],
          [
           "2014/15"
          ],
          [
           "2014/15"
          ],
          [
           "2014/15"
          ],
          [
           "2014/15"
          ],
          [
           "2015/16"
          ],
          [
           "2015/16"
          ],
          [
           "2015/16"
          ],
          [
           "2015/16"
          ],
          [
           "2015/16"
          ],
          [
           "2015/16"
          ],
          [
           "2015/16"
          ],
          [
           "2015/16"
          ],
          [
           "2015/16"
          ],
          [
           "2015/16"
          ],
          [
           "2015/16"
          ],
          [
           "2015/16"
          ],
          [
           "2016/17"
          ],
          [
           "2016/17"
          ],
          [
           "2016/17"
          ],
          [
           "2016/17"
          ],
          [
           "2016/17"
          ],
          [
           "2016/17"
          ],
          [
           "2016/17"
          ],
          [
           "2016/17"
          ],
          [
           "2016/17"
          ],
          [
           "2016/17"
          ],
          [
           "2016/17"
          ],
          [
           "2017/18"
          ],
          [
           "2017/18"
          ],
          [
           "2017/18"
          ],
          [
           "2017/18"
          ],
          [
           "2017/18"
          ],
          [
           "2017/18"
          ],
          [
           "2017/18"
          ],
          [
           "2017/18"
          ],
          [
           "2017/18"
          ],
          [
           "2017/18"
          ],
          [
           "2017/18"
          ],
          [
           "2017/18"
          ],
          [
           "2018/19"
          ],
          [
           "2018/19"
          ],
          [
           "2018/19"
          ],
          [
           "2018/19"
          ],
          [
           "2018/19"
          ],
          [
           "2018/19"
          ],
          [
           "2018/19"
          ],
          [
           "2018/19"
          ],
          [
           "2018/19"
          ],
          [
           "2018/19"
          ],
          [
           "2018/19"
          ],
          [
           "2018/19"
          ],
          [
           "2019/20"
          ],
          [
           "2019/20"
          ],
          [
           "2019/20"
          ],
          [
           "2019/20"
          ],
          [
           "2019/20"
          ],
          [
           "2019/20"
          ],
          [
           "2019/20"
          ],
          [
           "2019/20"
          ],
          [
           "2019/20"
          ],
          [
           "2019/20"
          ],
          [
           "2019/20"
          ],
          [
           "2019/20"
          ],
          [
           "2020/21"
          ],
          [
           "2020/21"
          ]
         ],
         "hovertemplate": "ReleaseDate=%{x}<br>Value=%{y}<br>MarketYear=%{customdata[0]}<extra></extra>",
         "legendgroup": "",
         "line": {
          "color": "#636efa",
          "dash": "solid"
         },
         "marker": {
          "symbol": "circle"
         },
         "mode": "lines",
         "name": "",
         "orientation": "v",
         "showlegend": false,
         "type": "scatter",
         "x": [
          "2010-04-09T00:00:00",
          "2010-04-09T00:00:00",
          "2010-04-09T00:00:00",
          "2010-05-11T00:00:00",
          "2010-05-11T00:00:00",
          "2010-05-11T00:00:00",
          "2010-06-10T00:00:00",
          "2010-06-10T00:00:00",
          "2010-06-10T00:00:00",
          "2010-07-09T00:00:00",
          "2010-07-09T00:00:00",
          "2010-07-09T00:00:00",
          "2010-08-12T00:00:00",
          "2010-08-12T00:00:00",
          "2010-08-12T00:00:00",
          "2010-09-10T00:00:00",
          "2010-09-10T00:00:00",
          "2010-09-10T00:00:00",
          "2010-10-08T00:00:00",
          "2010-10-08T00:00:00",
          "2010-10-08T00:00:00",
          "2010-11-09T00:00:00",
          "2010-11-09T00:00:00",
          "2010-11-09T00:00:00",
          "2010-12-10T00:00:00",
          "2010-12-10T00:00:00",
          "2010-12-10T00:00:00",
          "2011-01-12T00:00:00",
          "2011-02-09T00:00:00",
          "2011-03-10T00:00:00",
          "2011-04-08T00:00:00",
          "2011-05-11T00:00:00",
          "2011-06-09T00:00:00",
          "2011-07-12T00:00:00",
          "2011-08-11T00:00:00",
          "2011-09-12T00:00:00",
          "2011-10-12T00:00:00",
          "2011-11-09T00:00:00",
          "2011-12-09T00:00:00",
          "2012-01-12T00:00:00",
          "2012-02-09T00:00:00",
          "2012-03-09T00:00:00",
          "2012-04-10T00:00:00",
          "2012-05-10T00:00:00",
          "2012-06-12T00:00:00",
          "2012-07-11T00:00:00",
          "2012-08-10T00:00:00",
          "2012-09-12T00:00:00",
          "2012-10-11T00:00:00",
          "2012-11-09T00:00:00",
          "2012-12-11T00:00:00",
          "2013-01-11T00:00:00",
          "2013-02-08T00:00:00",
          "2013-03-08T00:00:00",
          "2013-04-10T00:00:00",
          "2013-05-10T00:00:00",
          "2013-06-12T00:00:00",
          "2013-07-11T00:00:00",
          "2013-08-12T00:00:00",
          "2013-09-12T00:00:00",
          "2013-11-08T00:00:00",
          "2013-12-10T00:00:00",
          "2014-01-10T00:00:00",
          "2014-02-10T00:00:00",
          "2014-03-10T00:00:00",
          "2014-04-09T00:00:00",
          "2014-05-09T00:00:00",
          "2014-06-11T00:00:00",
          "2014-07-11T00:00:00",
          "2014-08-12T00:00:00",
          "2014-09-11T00:00:00",
          "2014-10-10T00:00:00",
          "2014-11-10T00:00:00",
          "2014-12-10T00:00:00",
          "2015-01-12T00:00:00",
          "2015-02-10T00:00:00",
          "2015-03-10T00:00:00",
          "2015-04-09T00:00:00",
          "2015-05-12T00:00:00",
          "2015-06-10T00:00:00",
          "2015-07-10T00:00:00",
          "2015-08-12T00:00:00",
          "2015-09-11T00:00:00",
          "2015-10-09T00:00:00",
          "2015-11-10T00:00:00",
          "2015-12-09T00:00:00",
          "2016-01-12T00:00:00",
          "2016-02-09T00:00:00",
          "2016-03-09T00:00:00",
          "2016-04-12T00:00:00",
          "2016-05-10T00:00:00",
          "2016-06-10T00:00:00",
          "2016-07-12T00:00:00",
          "2016-08-12T00:00:00",
          "2016-09-12T00:00:00",
          "2016-10-12T00:00:00",
          "2016-11-09T00:00:00",
          "2016-12-09T00:00:00",
          "2017-01-12T00:00:00",
          "2017-02-09T00:00:00",
          "2017-03-09T00:00:00",
          "2017-04-11T00:00:00",
          "2017-05-10T00:00:00",
          "2017-06-09T00:00:00",
          "2017-07-12T00:00:00",
          "2017-08-10T00:00:00",
          "2017-09-12T00:00:00",
          "2017-10-12T00:00:00",
          "2017-11-09T00:00:00",
          "2017-12-12T00:00:00",
          "2018-01-12T00:00:00",
          "2018-02-08T00:00:00",
          "2018-03-08T00:00:00",
          "2018-04-10T00:00:00",
          "2018-05-10T00:00:00",
          "2018-06-12T00:00:00",
          "2018-07-12T00:00:00",
          "2018-08-10T00:00:00",
          "2018-09-12T00:00:00",
          "2018-10-11T00:00:00",
          "2018-11-08T00:00:00",
          "2018-12-11T00:00:00",
          "2019-02-08T00:00:00",
          "2019-03-08T00:00:00",
          "2019-04-09T00:00:00",
          "2019-05-10T00:00:00",
          "2019-06-11T00:00:00",
          "2019-07-11T00:00:00",
          "2019-08-12T00:00:00",
          "2019-09-12T00:00:00",
          "2019-10-10T00:00:00",
          "2019-11-08T00:00:00",
          "2019-12-10T00:00:00",
          "2020-01-10T00:00:00",
          "2020-02-11T00:00:00",
          "2020-03-10T00:00:00",
          "2020-04-09T00:00:00",
          "2020-05-12T00:00:00",
          "2020-06-11T00:00:00",
          "2020-07-10T00:00:00",
          "2020-08-12T00:00:00",
          "2020-09-11T00:00:00",
          "2020-10-09T00:00:00",
          "2020-11-10T00:00:00",
          "2020-12-10T00:00:00",
          "2021-01-12T00:00:00",
          "2021-02-09T00:00:00",
          "2021-03-09T00:00:00",
          "2021-04-09T00:00:00",
          "2021-05-12T00:00:00",
          "2021-06-10T00:00:00",
          "2021-07-12T00:00:00",
          "2021-08-12T00:00:00",
          "2021-09-10T00:00:00",
          "2021-10-12T00:00:00",
          "2021-11-09T00:00:00",
          "2021-12-09T00:00:00",
          "2022-01-12T00:00:00",
          "2022-02-09T00:00:00",
          "2022-03-09T00:00:00",
          "2022-04-08T00:00:00",
          "2022-05-12T00:00:00",
          "2022-06-10T00:00:00"
         ],
         "xaxis": "x",
         "y": [
          51,
          58.6,
          53.5,
          51,
          53.5,
          51,
          51,
          53,
          51,
          51,
          53,
          51,
          51,
          51,
          54.35,
          51,
          56.1,
          51,
          51,
          56.1,
          51,
          51,
          56.1,
          51,
          51,
          56.1,
          51,
          51,
          51,
          51,
          51,
          56.1,
          56.1,
          56.1,
          56.1,
          56.1,
          56.1,
          56.1,
          56.1,
          56.1,
          56.1,
          56.1,
          56.1,
          57.4,
          57.4,
          57.4,
          57.4,
          57.4,
          57.4,
          57.4,
          57.4,
          57.4,
          57.4,
          57.4,
          57.4,
          73,
          73,
          73,
          73,
          73,
          73,
          73,
          73,
          73,
          73,
          73,
          81.5,
          81.5,
          81.5,
          81.5,
          81.5,
          81.5,
          81.5,
          81.5,
          81.5,
          81.5,
          81.5,
          81.5,
          80,
          80,
          80,
          80,
          80,
          80,
          80,
          80,
          80,
          80,
          80,
          80,
          85,
          85,
          85,
          85,
          85,
          85,
          85,
          85,
          85,
          85,
          85,
          85,
          67,
          67,
          67,
          67,
          67,
          67,
          67,
          67,
          67,
          67,
          67,
          67,
          98.5,
          98.5,
          98.5,
          98.5,
          98.5,
          98.5,
          98.5,
          98.5,
          98.5,
          98.5,
          98.5,
          82,
          82,
          82,
          82,
          82,
          82,
          82,
          82,
          82,
          82,
          82,
          82,
          101,
          101,
          101,
          101,
          101,
          101,
          101,
          101,
          101,
          101,
          101,
          101,
          102,
          102,
          102,
          102,
          102,
          102,
          102,
          102,
          102,
          102,
          102,
          102,
          87,
          87
         ],
         "yaxis": "y"
        }
       ],
       "layout": {
        "legend": {
         "tracegroupgap": 0
        },
        "margin": {
         "t": 60
        },
        "template": {
         "data": {
          "bar": [
           {
            "error_x": {
             "color": "#2a3f5f"
            },
            "error_y": {
             "color": "#2a3f5f"
            },
            "marker": {
             "line": {
              "color": "#E5ECF6",
              "width": 0.5
             },
             "pattern": {
              "fillmode": "overlay",
              "size": 10,
              "solidity": 0.2
             }
            },
            "type": "bar"
           }
          ],
          "barpolar": [
           {
            "marker": {
             "line": {
              "color": "#E5ECF6",
              "width": 0.5
             },
             "pattern": {
              "fillmode": "overlay",
              "size": 10,
              "solidity": 0.2
             }
            },
            "type": "barpolar"
           }
          ],
          "carpet": [
           {
            "aaxis": {
             "endlinecolor": "#2a3f5f",
             "gridcolor": "white",
             "linecolor": "white",
             "minorgridcolor": "white",
             "startlinecolor": "#2a3f5f"
            },
            "baxis": {
             "endlinecolor": "#2a3f5f",
             "gridcolor": "white",
             "linecolor": "white",
             "minorgridcolor": "white",
             "startlinecolor": "#2a3f5f"
            },
            "type": "carpet"
           }
          ],
          "choropleth": [
           {
            "colorbar": {
             "outlinewidth": 0,
             "ticks": ""
            },
            "type": "choropleth"
           }
          ],
          "contour": [
           {
            "colorbar": {
             "outlinewidth": 0,
             "ticks": ""
            },
            "colorscale": [
             [
              0,
              "#0d0887"
             ],
             [
              0.1111111111111111,
              "#46039f"
             ],
             [
              0.2222222222222222,
              "#7201a8"
             ],
             [
              0.3333333333333333,
              "#9c179e"
             ],
             [
              0.4444444444444444,
              "#bd3786"
             ],
             [
              0.5555555555555556,
              "#d8576b"
             ],
             [
              0.6666666666666666,
              "#ed7953"
             ],
             [
              0.7777777777777778,
              "#fb9f3a"
             ],
             [
              0.8888888888888888,
              "#fdca26"
             ],
             [
              1,
              "#f0f921"
             ]
            ],
            "type": "contour"
           }
          ],
          "contourcarpet": [
           {
            "colorbar": {
             "outlinewidth": 0,
             "ticks": ""
            },
            "type": "contourcarpet"
           }
          ],
          "heatmap": [
           {
            "colorbar": {
             "outlinewidth": 0,
             "ticks": ""
            },
            "colorscale": [
             [
              0,
              "#0d0887"
             ],
             [
              0.1111111111111111,
              "#46039f"
             ],
             [
              0.2222222222222222,
              "#7201a8"
             ],
             [
              0.3333333333333333,
              "#9c179e"
             ],
             [
              0.4444444444444444,
              "#bd3786"
             ],
             [
              0.5555555555555556,
              "#d8576b"
             ],
             [
              0.6666666666666666,
              "#ed7953"
             ],
             [
              0.7777777777777778,
              "#fb9f3a"
             ],
             [
              0.8888888888888888,
              "#fdca26"
             ],
             [
              1,
              "#f0f921"
             ]
            ],
            "type": "heatmap"
           }
          ],
          "heatmapgl": [
           {
            "colorbar": {
             "outlinewidth": 0,
             "ticks": ""
            },
            "colorscale": [
             [
              0,
              "#0d0887"
             ],
             [
              0.1111111111111111,
              "#46039f"
             ],
             [
              0.2222222222222222,
              "#7201a8"
             ],
             [
              0.3333333333333333,
              "#9c179e"
             ],
             [
              0.4444444444444444,
              "#bd3786"
             ],
             [
              0.5555555555555556,
              "#d8576b"
             ],
             [
              0.6666666666666666,
              "#ed7953"
             ],
             [
              0.7777777777777778,
              "#fb9f3a"
             ],
             [
              0.8888888888888888,
              "#fdca26"
             ],
             [
              1,
              "#f0f921"
             ]
            ],
            "type": "heatmapgl"
           }
          ],
          "histogram": [
           {
            "marker": {
             "pattern": {
              "fillmode": "overlay",
              "size": 10,
              "solidity": 0.2
             }
            },
            "type": "histogram"
           }
          ],
          "histogram2d": [
           {
            "colorbar": {
             "outlinewidth": 0,
             "ticks": ""
            },
            "colorscale": [
             [
              0,
              "#0d0887"
             ],
             [
              0.1111111111111111,
              "#46039f"
             ],
             [
              0.2222222222222222,
              "#7201a8"
             ],
             [
              0.3333333333333333,
              "#9c179e"
             ],
             [
              0.4444444444444444,
              "#bd3786"
             ],
             [
              0.5555555555555556,
              "#d8576b"
             ],
             [
              0.6666666666666666,
              "#ed7953"
             ],
             [
              0.7777777777777778,
              "#fb9f3a"
             ],
             [
              0.8888888888888888,
              "#fdca26"
             ],
             [
              1,
              "#f0f921"
             ]
            ],
            "type": "histogram2d"
           }
          ],
          "histogram2dcontour": [
           {
            "colorbar": {
             "outlinewidth": 0,
             "ticks": ""
            },
            "colorscale": [
             [
              0,
              "#0d0887"
             ],
             [
              0.1111111111111111,
              "#46039f"
             ],
             [
              0.2222222222222222,
              "#7201a8"
             ],
             [
              0.3333333333333333,
              "#9c179e"
             ],
             [
              0.4444444444444444,
              "#bd3786"
             ],
             [
              0.5555555555555556,
              "#d8576b"
             ],
             [
              0.6666666666666666,
              "#ed7953"
             ],
             [
              0.7777777777777778,
              "#fb9f3a"
             ],
             [
              0.8888888888888888,
              "#fdca26"
             ],
             [
              1,
              "#f0f921"
             ]
            ],
            "type": "histogram2dcontour"
           }
          ],
          "mesh3d": [
           {
            "colorbar": {
             "outlinewidth": 0,
             "ticks": ""
            },
            "type": "mesh3d"
           }
          ],
          "parcoords": [
           {
            "line": {
             "colorbar": {
              "outlinewidth": 0,
              "ticks": ""
             }
            },
            "type": "parcoords"
           }
          ],
          "pie": [
           {
            "automargin": true,
            "type": "pie"
           }
          ],
          "scatter": [
           {
            "fillpattern": {
             "fillmode": "overlay",
             "size": 10,
             "solidity": 0.2
            },
            "type": "scatter"
           }
          ],
          "scatter3d": [
           {
            "line": {
             "colorbar": {
              "outlinewidth": 0,
              "ticks": ""
             }
            },
            "marker": {
             "colorbar": {
              "outlinewidth": 0,
              "ticks": ""
             }
            },
            "type": "scatter3d"
           }
          ],
          "scattercarpet": [
           {
            "marker": {
             "colorbar": {
              "outlinewidth": 0,
              "ticks": ""
             }
            },
            "type": "scattercarpet"
           }
          ],
          "scattergeo": [
           {
            "marker": {
             "colorbar": {
              "outlinewidth": 0,
              "ticks": ""
             }
            },
            "type": "scattergeo"
           }
          ],
          "scattergl": [
           {
            "marker": {
             "colorbar": {
              "outlinewidth": 0,
              "ticks": ""
             }
            },
            "type": "scattergl"
           }
          ],
          "scattermapbox": [
           {
            "marker": {
             "colorbar": {
              "outlinewidth": 0,
              "ticks": ""
             }
            },
            "type": "scattermapbox"
           }
          ],
          "scatterpolar": [
           {
            "marker": {
             "colorbar": {
              "outlinewidth": 0,
              "ticks": ""
             }
            },
            "type": "scatterpolar"
           }
          ],
          "scatterpolargl": [
           {
            "marker": {
             "colorbar": {
              "outlinewidth": 0,
              "ticks": ""
             }
            },
            "type": "scatterpolargl"
           }
          ],
          "scatterternary": [
           {
            "marker": {
             "colorbar": {
              "outlinewidth": 0,
              "ticks": ""
             }
            },
            "type": "scatterternary"
           }
          ],
          "surface": [
           {
            "colorbar": {
             "outlinewidth": 0,
             "ticks": ""
            },
            "colorscale": [
             [
              0,
              "#0d0887"
             ],
             [
              0.1111111111111111,
              "#46039f"
             ],
             [
              0.2222222222222222,
              "#7201a8"
             ],
             [
              0.3333333333333333,
              "#9c179e"
             ],
             [
              0.4444444444444444,
              "#bd3786"
             ],
             [
              0.5555555555555556,
              "#d8576b"
             ],
             [
              0.6666666666666666,
              "#ed7953"
             ],
             [
              0.7777777777777778,
              "#fb9f3a"
             ],
             [
              0.8888888888888888,
              "#fdca26"
             ],
             [
              1,
              "#f0f921"
             ]
            ],
            "type": "surface"
           }
          ],
          "table": [
           {
            "cells": {
             "fill": {
              "color": "#EBF0F8"
             },
             "line": {
              "color": "white"
             }
            },
            "header": {
             "fill": {
              "color": "#C8D4E3"
             },
             "line": {
              "color": "white"
             }
            },
            "type": "table"
           }
          ]
         },
         "layout": {
          "annotationdefaults": {
           "arrowcolor": "#2a3f5f",
           "arrowhead": 0,
           "arrowwidth": 1
          },
          "autotypenumbers": "strict",
          "coloraxis": {
           "colorbar": {
            "outlinewidth": 0,
            "ticks": ""
           }
          },
          "colorscale": {
           "diverging": [
            [
             0,
             "#8e0152"
            ],
            [
             0.1,
             "#c51b7d"
            ],
            [
             0.2,
             "#de77ae"
            ],
            [
             0.3,
             "#f1b6da"
            ],
            [
             0.4,
             "#fde0ef"
            ],
            [
             0.5,
             "#f7f7f7"
            ],
            [
             0.6,
             "#e6f5d0"
            ],
            [
             0.7,
             "#b8e186"
            ],
            [
             0.8,
             "#7fbc41"
            ],
            [
             0.9,
             "#4d9221"
            ],
            [
             1,
             "#276419"
            ]
           ],
           "sequential": [
            [
             0,
             "#0d0887"
            ],
            [
             0.1111111111111111,
             "#46039f"
            ],
            [
             0.2222222222222222,
             "#7201a8"
            ],
            [
             0.3333333333333333,
             "#9c179e"
            ],
            [
             0.4444444444444444,
             "#bd3786"
            ],
            [
             0.5555555555555556,
             "#d8576b"
            ],
            [
             0.6666666666666666,
             "#ed7953"
            ],
            [
             0.7777777777777778,
             "#fb9f3a"
            ],
            [
             0.8888888888888888,
             "#fdca26"
            ],
            [
             1,
             "#f0f921"
            ]
           ],
           "sequentialminus": [
            [
             0,
             "#0d0887"
            ],
            [
             0.1111111111111111,
             "#46039f"
            ],
            [
             0.2222222222222222,
             "#7201a8"
            ],
            [
             0.3333333333333333,
             "#9c179e"
            ],
            [
             0.4444444444444444,
             "#bd3786"
            ],
            [
             0.5555555555555556,
             "#d8576b"
            ],
            [
             0.6666666666666666,
             "#ed7953"
            ],
            [
             0.7777777777777778,
             "#fb9f3a"
            ],
            [
             0.8888888888888888,
             "#fdca26"
            ],
            [
             1,
             "#f0f921"
            ]
           ]
          },
          "colorway": [
           "#636efa",
           "#EF553B",
           "#00cc96",
           "#ab63fa",
           "#FFA15A",
           "#19d3f3",
           "#FF6692",
           "#B6E880",
           "#FF97FF",
           "#FECB52"
          ],
          "font": {
           "color": "#2a3f5f"
          },
          "geo": {
           "bgcolor": "white",
           "lakecolor": "white",
           "landcolor": "#E5ECF6",
           "showlakes": true,
           "showland": true,
           "subunitcolor": "white"
          },
          "hoverlabel": {
           "align": "left"
          },
          "hovermode": "closest",
          "mapbox": {
           "style": "light"
          },
          "paper_bgcolor": "white",
          "plot_bgcolor": "#E5ECF6",
          "polar": {
           "angularaxis": {
            "gridcolor": "white",
            "linecolor": "white",
            "ticks": ""
           },
           "bgcolor": "#E5ECF6",
           "radialaxis": {
            "gridcolor": "white",
            "linecolor": "white",
            "ticks": ""
           }
          },
          "scene": {
           "xaxis": {
            "backgroundcolor": "#E5ECF6",
            "gridcolor": "white",
            "gridwidth": 2,
            "linecolor": "white",
            "showbackground": true,
            "ticks": "",
            "zerolinecolor": "white"
           },
           "yaxis": {
            "backgroundcolor": "#E5ECF6",
            "gridcolor": "white",
            "gridwidth": 2,
            "linecolor": "white",
            "showbackground": true,
            "ticks": "",
            "zerolinecolor": "white"
           },
           "zaxis": {
            "backgroundcolor": "#E5ECF6",
            "gridcolor": "white",
            "gridwidth": 2,
            "linecolor": "white",
            "showbackground": true,
            "ticks": "",
            "zerolinecolor": "white"
           }
          },
          "shapedefaults": {
           "line": {
            "color": "#2a3f5f"
           }
          },
          "ternary": {
           "aaxis": {
            "gridcolor": "white",
            "linecolor": "white",
            "ticks": ""
           },
           "baxis": {
            "gridcolor": "white",
            "linecolor": "white",
            "ticks": ""
           },
           "bgcolor": "#E5ECF6",
           "caxis": {
            "gridcolor": "white",
            "linecolor": "white",
            "ticks": ""
           }
          },
          "title": {
           "x": 0.05
          },
          "xaxis": {
           "automargin": true,
           "gridcolor": "white",
           "linecolor": "white",
           "ticks": "",
           "title": {
            "standoff": 15
           },
           "zerolinecolor": "white",
           "zerolinewidth": 2
          },
          "yaxis": {
           "automargin": true,
           "gridcolor": "white",
           "linecolor": "white",
           "ticks": "",
           "title": {
            "standoff": 15
           },
           "zerolinecolor": "white",
           "zerolinewidth": 2
          }
         }
        },
        "title": {
         "text": "Brazil Corn Production (None)"
        },
        "xaxis": {
         "anchor": "y",
         "domain": [
          0,
          1
         ],
         "title": {
          "text": "ReleaseDate"
         }
        },
        "yaxis": {
         "anchor": "x",
         "domain": [
          0,
          1
         ],
         "title": {
          "text": "Value"
         }
        }
       }
      },
      "text/html": [
       "<div>                            <div id=\"7a7556ca-ac08-4d98-8b00-30220524bb65\" class=\"plotly-graph-div\" style=\"height:525px; width:100%;\"></div>            <script type=\"text/javascript\">                require([\"plotly\"], function(Plotly) {                    window.PLOTLYENV=window.PLOTLYENV || {};                                    if (document.getElementById(\"7a7556ca-ac08-4d98-8b00-30220524bb65\")) {                    Plotly.newPlot(                        \"7a7556ca-ac08-4d98-8b00-30220524bb65\",                        [{\"customdata\":[[\"2008/09\"],[\"2007/08\"],[\"2009/10\"],[\"2010/11\"],[\"2009/10\"],[\"2008/09\"],[\"2008/09\"],[\"2009/10\"],[\"2010/11\"],[\"2008/09\"],[\"2009/10\"],[\"2010/11\"],[\"2010/11\"],[\"2008/09\"],[\"2009/10\"],[\"2008/09\"],[\"2009/10\"],[\"2010/11\"],[\"2008/09\"],[\"2009/10\"],[\"2010/11\"],[\"2008/09\"],[\"2009/10\"],[\"2010/11\"],[\"2010/11\"],[\"2009/10\"],[\"2008/09\"],[\"2008/09\"],[\"2008/09\"],[\"2008/09\"],[\"2008/09\"],[\"2009/10\"],[\"2009/10\"],[\"2009/10\"],[\"2009/10\"],[\"2009/10\"],[\"2009/10\"],[\"2009/10\"],[\"2009/10\"],[\"2009/10\"],[\"2009/10\"],[\"2009/10\"],[\"2009/10\"],[\"2010/11\"],[\"2010/11\"],[\"2010/11\"],[\"2010/11\"],[\"2010/11\"],[\"2010/11\"],[\"2010/11\"],[\"2010/11\"],[\"2010/11\"],[\"2010/11\"],[\"2010/11\"],[\"2010/11\"],[\"2011/12\"],[\"2011/12\"],[\"2011/12\"],[\"2011/12\"],[\"2011/12\"],[\"2011/12\"],[\"2011/12\"],[\"2011/12\"],[\"2011/12\"],[\"2011/12\"],[\"2011/12\"],[\"2012/13\"],[\"2012/13\"],[\"2012/13\"],[\"2012/13\"],[\"2012/13\"],[\"2012/13\"],[\"2012/13\"],[\"2012/13\"],[\"2012/13\"],[\"2012/13\"],[\"2012/13\"],[\"2012/13\"],[\"2013/14\"],[\"2013/14\"],[\"2013/14\"],[\"2013/14\"],[\"2013/14\"],[\"2013/14\"],[\"2013/14\"],[\"2013/14\"],[\"2013/14\"],[\"2013/14\"],[\"2013/14\"],[\"2013/14\"],[\"2014/15\"],[\"2014/15\"],[\"2014/15\"],[\"2014/15\"],[\"2014/15\"],[\"2014/15\"],[\"2014/15\"],[\"2014/15\"],[\"2014/15\"],[\"2014/15\"],[\"2014/15\"],[\"2014/15\"],[\"2015/16\"],[\"2015/16\"],[\"2015/16\"],[\"2015/16\"],[\"2015/16\"],[\"2015/16\"],[\"2015/16\"],[\"2015/16\"],[\"2015/16\"],[\"2015/16\"],[\"2015/16\"],[\"2015/16\"],[\"2016/17\"],[\"2016/17\"],[\"2016/17\"],[\"2016/17\"],[\"2016/17\"],[\"2016/17\"],[\"2016/17\"],[\"2016/17\"],[\"2016/17\"],[\"2016/17\"],[\"2016/17\"],[\"2017/18\"],[\"2017/18\"],[\"2017/18\"],[\"2017/18\"],[\"2017/18\"],[\"2017/18\"],[\"2017/18\"],[\"2017/18\"],[\"2017/18\"],[\"2017/18\"],[\"2017/18\"],[\"2017/18\"],[\"2018/19\"],[\"2018/19\"],[\"2018/19\"],[\"2018/19\"],[\"2018/19\"],[\"2018/19\"],[\"2018/19\"],[\"2018/19\"],[\"2018/19\"],[\"2018/19\"],[\"2018/19\"],[\"2018/19\"],[\"2019/20\"],[\"2019/20\"],[\"2019/20\"],[\"2019/20\"],[\"2019/20\"],[\"2019/20\"],[\"2019/20\"],[\"2019/20\"],[\"2019/20\"],[\"2019/20\"],[\"2019/20\"],[\"2019/20\"],[\"2020/21\"],[\"2020/21\"]],\"hovertemplate\":\"ReleaseDate=%{x}<br>Value=%{y}<br>MarketYear=%{customdata[0]}<extra></extra>\",\"legendgroup\":\"\",\"line\":{\"color\":\"#636efa\",\"dash\":\"solid\"},\"marker\":{\"symbol\":\"circle\"},\"mode\":\"lines\",\"name\":\"\",\"orientation\":\"v\",\"showlegend\":false,\"x\":[\"2010-04-09T00:00:00\",\"2010-04-09T00:00:00\",\"2010-04-09T00:00:00\",\"2010-05-11T00:00:00\",\"2010-05-11T00:00:00\",\"2010-05-11T00:00:00\",\"2010-06-10T00:00:00\",\"2010-06-10T00:00:00\",\"2010-06-10T00:00:00\",\"2010-07-09T00:00:00\",\"2010-07-09T00:00:00\",\"2010-07-09T00:00:00\",\"2010-08-12T00:00:00\",\"2010-08-12T00:00:00\",\"2010-08-12T00:00:00\",\"2010-09-10T00:00:00\",\"2010-09-10T00:00:00\",\"2010-09-10T00:00:00\",\"2010-10-08T00:00:00\",\"2010-10-08T00:00:00\",\"2010-10-08T00:00:00\",\"2010-11-09T00:00:00\",\"2010-11-09T00:00:00\",\"2010-11-09T00:00:00\",\"2010-12-10T00:00:00\",\"2010-12-10T00:00:00\",\"2010-12-10T00:00:00\",\"2011-01-12T00:00:00\",\"2011-02-09T00:00:00\",\"2011-03-10T00:00:00\",\"2011-04-08T00:00:00\",\"2011-05-11T00:00:00\",\"2011-06-09T00:00:00\",\"2011-07-12T00:00:00\",\"2011-08-11T00:00:00\",\"2011-09-12T00:00:00\",\"2011-10-12T00:00:00\",\"2011-11-09T00:00:00\",\"2011-12-09T00:00:00\",\"2012-01-12T00:00:00\",\"2012-02-09T00:00:00\",\"2012-03-09T00:00:00\",\"2012-04-10T00:00:00\",\"2012-05-10T00:00:00\",\"2012-06-12T00:00:00\",\"2012-07-11T00:00:00\",\"2012-08-10T00:00:00\",\"2012-09-12T00:00:00\",\"2012-10-11T00:00:00\",\"2012-11-09T00:00:00\",\"2012-12-11T00:00:00\",\"2013-01-11T00:00:00\",\"2013-02-08T00:00:00\",\"2013-03-08T00:00:00\",\"2013-04-10T00:00:00\",\"2013-05-10T00:00:00\",\"2013-06-12T00:00:00\",\"2013-07-11T00:00:00\",\"2013-08-12T00:00:00\",\"2013-09-12T00:00:00\",\"2013-11-08T00:00:00\",\"2013-12-10T00:00:00\",\"2014-01-10T00:00:00\",\"2014-02-10T00:00:00\",\"2014-03-10T00:00:00\",\"2014-04-09T00:00:00\",\"2014-05-09T00:00:00\",\"2014-06-11T00:00:00\",\"2014-07-11T00:00:00\",\"2014-08-12T00:00:00\",\"2014-09-11T00:00:00\",\"2014-10-10T00:00:00\",\"2014-11-10T00:00:00\",\"2014-12-10T00:00:00\",\"2015-01-12T00:00:00\",\"2015-02-10T00:00:00\",\"2015-03-10T00:00:00\",\"2015-04-09T00:00:00\",\"2015-05-12T00:00:00\",\"2015-06-10T00:00:00\",\"2015-07-10T00:00:00\",\"2015-08-12T00:00:00\",\"2015-09-11T00:00:00\",\"2015-10-09T00:00:00\",\"2015-11-10T00:00:00\",\"2015-12-09T00:00:00\",\"2016-01-12T00:00:00\",\"2016-02-09T00:00:00\",\"2016-03-09T00:00:00\",\"2016-04-12T00:00:00\",\"2016-05-10T00:00:00\",\"2016-06-10T00:00:00\",\"2016-07-12T00:00:00\",\"2016-08-12T00:00:00\",\"2016-09-12T00:00:00\",\"2016-10-12T00:00:00\",\"2016-11-09T00:00:00\",\"2016-12-09T00:00:00\",\"2017-01-12T00:00:00\",\"2017-02-09T00:00:00\",\"2017-03-09T00:00:00\",\"2017-04-11T00:00:00\",\"2017-05-10T00:00:00\",\"2017-06-09T00:00:00\",\"2017-07-12T00:00:00\",\"2017-08-10T00:00:00\",\"2017-09-12T00:00:00\",\"2017-10-12T00:00:00\",\"2017-11-09T00:00:00\",\"2017-12-12T00:00:00\",\"2018-01-12T00:00:00\",\"2018-02-08T00:00:00\",\"2018-03-08T00:00:00\",\"2018-04-10T00:00:00\",\"2018-05-10T00:00:00\",\"2018-06-12T00:00:00\",\"2018-07-12T00:00:00\",\"2018-08-10T00:00:00\",\"2018-09-12T00:00:00\",\"2018-10-11T00:00:00\",\"2018-11-08T00:00:00\",\"2018-12-11T00:00:00\",\"2019-02-08T00:00:00\",\"2019-03-08T00:00:00\",\"2019-04-09T00:00:00\",\"2019-05-10T00:00:00\",\"2019-06-11T00:00:00\",\"2019-07-11T00:00:00\",\"2019-08-12T00:00:00\",\"2019-09-12T00:00:00\",\"2019-10-10T00:00:00\",\"2019-11-08T00:00:00\",\"2019-12-10T00:00:00\",\"2020-01-10T00:00:00\",\"2020-02-11T00:00:00\",\"2020-03-10T00:00:00\",\"2020-04-09T00:00:00\",\"2020-05-12T00:00:00\",\"2020-06-11T00:00:00\",\"2020-07-10T00:00:00\",\"2020-08-12T00:00:00\",\"2020-09-11T00:00:00\",\"2020-10-09T00:00:00\",\"2020-11-10T00:00:00\",\"2020-12-10T00:00:00\",\"2021-01-12T00:00:00\",\"2021-02-09T00:00:00\",\"2021-03-09T00:00:00\",\"2021-04-09T00:00:00\",\"2021-05-12T00:00:00\",\"2021-06-10T00:00:00\",\"2021-07-12T00:00:00\",\"2021-08-12T00:00:00\",\"2021-09-10T00:00:00\",\"2021-10-12T00:00:00\",\"2021-11-09T00:00:00\",\"2021-12-09T00:00:00\",\"2022-01-12T00:00:00\",\"2022-02-09T00:00:00\",\"2022-03-09T00:00:00\",\"2022-04-08T00:00:00\",\"2022-05-12T00:00:00\",\"2022-06-10T00:00:00\"],\"xaxis\":\"x\",\"y\":[51.0,58.6,53.5,51.0,53.5,51.0,51.0,53.0,51.0,51.0,53.0,51.0,51.0,51.0,54.35,51.0,56.1,51.0,51.0,56.1,51.0,51.0,56.1,51.0,51.0,56.1,51.0,51.0,51.0,51.0,51.0,56.1,56.1,56.1,56.1,56.1,56.1,56.1,56.1,56.1,56.1,56.1,56.1,57.4,57.4,57.4,57.4,57.4,57.4,57.4,57.4,57.4,57.4,57.4,57.4,73.0,73.0,73.0,73.0,73.0,73.0,73.0,73.0,73.0,73.0,73.0,81.5,81.5,81.5,81.5,81.5,81.5,81.5,81.5,81.5,81.5,81.5,81.5,80.0,80.0,80.0,80.0,80.0,80.0,80.0,80.0,80.0,80.0,80.0,80.0,85.0,85.0,85.0,85.0,85.0,85.0,85.0,85.0,85.0,85.0,85.0,85.0,67.0,67.0,67.0,67.0,67.0,67.0,67.0,67.0,67.0,67.0,67.0,67.0,98.5,98.5,98.5,98.5,98.5,98.5,98.5,98.5,98.5,98.5,98.5,82.0,82.0,82.0,82.0,82.0,82.0,82.0,82.0,82.0,82.0,82.0,82.0,101.0,101.0,101.0,101.0,101.0,101.0,101.0,101.0,101.0,101.0,101.0,101.0,102.0,102.0,102.0,102.0,102.0,102.0,102.0,102.0,102.0,102.0,102.0,102.0,87.0,87.0],\"yaxis\":\"y\",\"type\":\"scatter\"}],                        {\"template\":{\"data\":{\"histogram2dcontour\":[{\"type\":\"histogram2dcontour\",\"colorbar\":{\"outlinewidth\":0,\"ticks\":\"\"},\"colorscale\":[[0.0,\"#0d0887\"],[0.1111111111111111,\"#46039f\"],[0.2222222222222222,\"#7201a8\"],[0.3333333333333333,\"#9c179e\"],[0.4444444444444444,\"#bd3786\"],[0.5555555555555556,\"#d8576b\"],[0.6666666666666666,\"#ed7953\"],[0.7777777777777778,\"#fb9f3a\"],[0.8888888888888888,\"#fdca26\"],[1.0,\"#f0f921\"]]}],\"choropleth\":[{\"type\":\"choropleth\",\"colorbar\":{\"outlinewidth\":0,\"ticks\":\"\"}}],\"histogram2d\":[{\"type\":\"histogram2d\",\"colorbar\":{\"outlinewidth\":0,\"ticks\":\"\"},\"colorscale\":[[0.0,\"#0d0887\"],[0.1111111111111111,\"#46039f\"],[0.2222222222222222,\"#7201a8\"],[0.3333333333333333,\"#9c179e\"],[0.4444444444444444,\"#bd3786\"],[0.5555555555555556,\"#d8576b\"],[0.6666666666666666,\"#ed7953\"],[0.7777777777777778,\"#fb9f3a\"],[0.8888888888888888,\"#fdca26\"],[1.0,\"#f0f921\"]]}],\"heatmap\":[{\"type\":\"heatmap\",\"colorbar\":{\"outlinewidth\":0,\"ticks\":\"\"},\"colorscale\":[[0.0,\"#0d0887\"],[0.1111111111111111,\"#46039f\"],[0.2222222222222222,\"#7201a8\"],[0.3333333333333333,\"#9c179e\"],[0.4444444444444444,\"#bd3786\"],[0.5555555555555556,\"#d8576b\"],[0.6666666666666666,\"#ed7953\"],[0.7777777777777778,\"#fb9f3a\"],[0.8888888888888888,\"#fdca26\"],[1.0,\"#f0f921\"]]}],\"heatmapgl\":[{\"type\":\"heatmapgl\",\"colorbar\":{\"outlinewidth\":0,\"ticks\":\"\"},\"colorscale\":[[0.0,\"#0d0887\"],[0.1111111111111111,\"#46039f\"],[0.2222222222222222,\"#7201a8\"],[0.3333333333333333,\"#9c179e\"],[0.4444444444444444,\"#bd3786\"],[0.5555555555555556,\"#d8576b\"],[0.6666666666666666,\"#ed7953\"],[0.7777777777777778,\"#fb9f3a\"],[0.8888888888888888,\"#fdca26\"],[1.0,\"#f0f921\"]]}],\"contourcarpet\":[{\"type\":\"contourcarpet\",\"colorbar\":{\"outlinewidth\":0,\"ticks\":\"\"}}],\"contour\":[{\"type\":\"contour\",\"colorbar\":{\"outlinewidth\":0,\"ticks\":\"\"},\"colorscale\":[[0.0,\"#0d0887\"],[0.1111111111111111,\"#46039f\"],[0.2222222222222222,\"#7201a8\"],[0.3333333333333333,\"#9c179e\"],[0.4444444444444444,\"#bd3786\"],[0.5555555555555556,\"#d8576b\"],[0.6666666666666666,\"#ed7953\"],[0.7777777777777778,\"#fb9f3a\"],[0.8888888888888888,\"#fdca26\"],[1.0,\"#f0f921\"]]}],\"surface\":[{\"type\":\"surface\",\"colorbar\":{\"outlinewidth\":0,\"ticks\":\"\"},\"colorscale\":[[0.0,\"#0d0887\"],[0.1111111111111111,\"#46039f\"],[0.2222222222222222,\"#7201a8\"],[0.3333333333333333,\"#9c179e\"],[0.4444444444444444,\"#bd3786\"],[0.5555555555555556,\"#d8576b\"],[0.6666666666666666,\"#ed7953\"],[0.7777777777777778,\"#fb9f3a\"],[0.8888888888888888,\"#fdca26\"],[1.0,\"#f0f921\"]]}],\"mesh3d\":[{\"type\":\"mesh3d\",\"colorbar\":{\"outlinewidth\":0,\"ticks\":\"\"}}],\"scatter\":[{\"fillpattern\":{\"fillmode\":\"overlay\",\"size\":10,\"solidity\":0.2},\"type\":\"scatter\"}],\"parcoords\":[{\"type\":\"parcoords\",\"line\":{\"colorbar\":{\"outlinewidth\":0,\"ticks\":\"\"}}}],\"scatterpolargl\":[{\"type\":\"scatterpolargl\",\"marker\":{\"colorbar\":{\"outlinewidth\":0,\"ticks\":\"\"}}}],\"bar\":[{\"error_x\":{\"color\":\"#2a3f5f\"},\"error_y\":{\"color\":\"#2a3f5f\"},\"marker\":{\"line\":{\"color\":\"#E5ECF6\",\"width\":0.5},\"pattern\":{\"fillmode\":\"overlay\",\"size\":10,\"solidity\":0.2}},\"type\":\"bar\"}],\"scattergeo\":[{\"type\":\"scattergeo\",\"marker\":{\"colorbar\":{\"outlinewidth\":0,\"ticks\":\"\"}}}],\"scatterpolar\":[{\"type\":\"scatterpolar\",\"marker\":{\"colorbar\":{\"outlinewidth\":0,\"ticks\":\"\"}}}],\"histogram\":[{\"marker\":{\"pattern\":{\"fillmode\":\"overlay\",\"size\":10,\"solidity\":0.2}},\"type\":\"histogram\"}],\"scattergl\":[{\"type\":\"scattergl\",\"marker\":{\"colorbar\":{\"outlinewidth\":0,\"ticks\":\"\"}}}],\"scatter3d\":[{\"type\":\"scatter3d\",\"line\":{\"colorbar\":{\"outlinewidth\":0,\"ticks\":\"\"}},\"marker\":{\"colorbar\":{\"outlinewidth\":0,\"ticks\":\"\"}}}],\"scattermapbox\":[{\"type\":\"scattermapbox\",\"marker\":{\"colorbar\":{\"outlinewidth\":0,\"ticks\":\"\"}}}],\"scatterternary\":[{\"type\":\"scatterternary\",\"marker\":{\"colorbar\":{\"outlinewidth\":0,\"ticks\":\"\"}}}],\"scattercarpet\":[{\"type\":\"scattercarpet\",\"marker\":{\"colorbar\":{\"outlinewidth\":0,\"ticks\":\"\"}}}],\"carpet\":[{\"aaxis\":{\"endlinecolor\":\"#2a3f5f\",\"gridcolor\":\"white\",\"linecolor\":\"white\",\"minorgridcolor\":\"white\",\"startlinecolor\":\"#2a3f5f\"},\"baxis\":{\"endlinecolor\":\"#2a3f5f\",\"gridcolor\":\"white\",\"linecolor\":\"white\",\"minorgridcolor\":\"white\",\"startlinecolor\":\"#2a3f5f\"},\"type\":\"carpet\"}],\"table\":[{\"cells\":{\"fill\":{\"color\":\"#EBF0F8\"},\"line\":{\"color\":\"white\"}},\"header\":{\"fill\":{\"color\":\"#C8D4E3\"},\"line\":{\"color\":\"white\"}},\"type\":\"table\"}],\"barpolar\":[{\"marker\":{\"line\":{\"color\":\"#E5ECF6\",\"width\":0.5},\"pattern\":{\"fillmode\":\"overlay\",\"size\":10,\"solidity\":0.2}},\"type\":\"barpolar\"}],\"pie\":[{\"automargin\":true,\"type\":\"pie\"}]},\"layout\":{\"autotypenumbers\":\"strict\",\"colorway\":[\"#636efa\",\"#EF553B\",\"#00cc96\",\"#ab63fa\",\"#FFA15A\",\"#19d3f3\",\"#FF6692\",\"#B6E880\",\"#FF97FF\",\"#FECB52\"],\"font\":{\"color\":\"#2a3f5f\"},\"hovermode\":\"closest\",\"hoverlabel\":{\"align\":\"left\"},\"paper_bgcolor\":\"white\",\"plot_bgcolor\":\"#E5ECF6\",\"polar\":{\"bgcolor\":\"#E5ECF6\",\"angularaxis\":{\"gridcolor\":\"white\",\"linecolor\":\"white\",\"ticks\":\"\"},\"radialaxis\":{\"gridcolor\":\"white\",\"linecolor\":\"white\",\"ticks\":\"\"}},\"ternary\":{\"bgcolor\":\"#E5ECF6\",\"aaxis\":{\"gridcolor\":\"white\",\"linecolor\":\"white\",\"ticks\":\"\"},\"baxis\":{\"gridcolor\":\"white\",\"linecolor\":\"white\",\"ticks\":\"\"},\"caxis\":{\"gridcolor\":\"white\",\"linecolor\":\"white\",\"ticks\":\"\"}},\"coloraxis\":{\"colorbar\":{\"outlinewidth\":0,\"ticks\":\"\"}},\"colorscale\":{\"sequential\":[[0.0,\"#0d0887\"],[0.1111111111111111,\"#46039f\"],[0.2222222222222222,\"#7201a8\"],[0.3333333333333333,\"#9c179e\"],[0.4444444444444444,\"#bd3786\"],[0.5555555555555556,\"#d8576b\"],[0.6666666666666666,\"#ed7953\"],[0.7777777777777778,\"#fb9f3a\"],[0.8888888888888888,\"#fdca26\"],[1.0,\"#f0f921\"]],\"sequentialminus\":[[0.0,\"#0d0887\"],[0.1111111111111111,\"#46039f\"],[0.2222222222222222,\"#7201a8\"],[0.3333333333333333,\"#9c179e\"],[0.4444444444444444,\"#bd3786\"],[0.5555555555555556,\"#d8576b\"],[0.6666666666666666,\"#ed7953\"],[0.7777777777777778,\"#fb9f3a\"],[0.8888888888888888,\"#fdca26\"],[1.0,\"#f0f921\"]],\"diverging\":[[0,\"#8e0152\"],[0.1,\"#c51b7d\"],[0.2,\"#de77ae\"],[0.3,\"#f1b6da\"],[0.4,\"#fde0ef\"],[0.5,\"#f7f7f7\"],[0.6,\"#e6f5d0\"],[0.7,\"#b8e186\"],[0.8,\"#7fbc41\"],[0.9,\"#4d9221\"],[1,\"#276419\"]]},\"xaxis\":{\"gridcolor\":\"white\",\"linecolor\":\"white\",\"ticks\":\"\",\"title\":{\"standoff\":15},\"zerolinecolor\":\"white\",\"automargin\":true,\"zerolinewidth\":2},\"yaxis\":{\"gridcolor\":\"white\",\"linecolor\":\"white\",\"ticks\":\"\",\"title\":{\"standoff\":15},\"zerolinecolor\":\"white\",\"automargin\":true,\"zerolinewidth\":2},\"scene\":{\"xaxis\":{\"backgroundcolor\":\"#E5ECF6\",\"gridcolor\":\"white\",\"linecolor\":\"white\",\"showbackground\":true,\"ticks\":\"\",\"zerolinecolor\":\"white\",\"gridwidth\":2},\"yaxis\":{\"backgroundcolor\":\"#E5ECF6\",\"gridcolor\":\"white\",\"linecolor\":\"white\",\"showbackground\":true,\"ticks\":\"\",\"zerolinecolor\":\"white\",\"gridwidth\":2},\"zaxis\":{\"backgroundcolor\":\"#E5ECF6\",\"gridcolor\":\"white\",\"linecolor\":\"white\",\"showbackground\":true,\"ticks\":\"\",\"zerolinecolor\":\"white\",\"gridwidth\":2}},\"shapedefaults\":{\"line\":{\"color\":\"#2a3f5f\"}},\"annotationdefaults\":{\"arrowcolor\":\"#2a3f5f\",\"arrowhead\":0,\"arrowwidth\":1},\"geo\":{\"bgcolor\":\"white\",\"landcolor\":\"#E5ECF6\",\"subunitcolor\":\"white\",\"showland\":true,\"showlakes\":true,\"lakecolor\":\"white\"},\"title\":{\"x\":0.05},\"mapbox\":{\"style\":\"light\"}}},\"xaxis\":{\"anchor\":\"y\",\"domain\":[0.0,1.0],\"title\":{\"text\":\"ReleaseDate\"}},\"yaxis\":{\"anchor\":\"x\",\"domain\":[0.0,1.0],\"title\":{\"text\":\"Value\"}},\"legend\":{\"tracegroupgap\":0},\"margin\":{\"t\":60},\"title\":{\"text\":\"Brazil Corn Production (None)\"}},                        {\"responsive\": true}                    ).then(function(){\n",
       "                            \n",
       "var gd = document.getElementById('7a7556ca-ac08-4d98-8b00-30220524bb65');\n",
       "var x = new MutationObserver(function (mutations, observer) {{\n",
       "        var display = window.getComputedStyle(gd).display;\n",
       "        if (!display || display === 'none') {{\n",
       "            console.log([gd, 'removed!']);\n",
       "            Plotly.purge(gd);\n",
       "            observer.disconnect();\n",
       "        }}\n",
       "}});\n",
       "\n",
       "// Listen for the removal of the full notebook cells\n",
       "var notebookContainer = gd.closest('#notebook-container');\n",
       "if (notebookContainer) {{\n",
       "    x.observe(notebookContainer, {childList: true});\n",
       "}}\n",
       "\n",
       "// Listen for the clearing of the current output cell\n",
       "var outputEl = gd.closest('.output');\n",
       "if (outputEl) {{\n",
       "    x.observe(outputEl, {childList: true});\n",
       "}}\n",
       "\n",
       "                        })                };                });            </script>        </div>"
      ]
     },
     "metadata": {},
     "output_type": "display_data"
    }
   ],
   "source": [
    "plot_values(country_df_actual_values)"
   ]
  },
  {
   "cell_type": "code",
   "execution_count": 34,
   "metadata": {},
   "outputs": [
    {
     "data": {
      "application/vnd.plotly.v1+json": {
       "config": {
        "plotlyServerURL": "https://plotly.com"
       },
       "data": [
        {
         "customdata": [
          [
           "2010/11"
          ],
          [
           "2010/11"
          ],
          [
           "2010/11"
          ],
          [
           "2010/11"
          ],
          [
           "2011/12"
          ],
          [
           "2011/12"
          ],
          [
           "2011/12"
          ],
          [
           "2011/12"
          ],
          [
           "2011/12"
          ],
          [
           "2011/12"
          ],
          [
           "2011/12"
          ],
          [
           "2011/12"
          ],
          [
           "2011/12"
          ],
          [
           "2011/12"
          ],
          [
           "2011/12"
          ],
          [
           "2011/12"
          ],
          [
           "2012/13"
          ],
          [
           "2012/13"
          ],
          [
           "2012/13"
          ],
          [
           "2012/13"
          ],
          [
           "2012/13"
          ],
          [
           "2012/13"
          ],
          [
           "2012/13"
          ],
          [
           "2012/13"
          ],
          [
           "2012/13"
          ],
          [
           "2012/13"
          ],
          [
           "2012/13"
          ],
          [
           "2012/13"
          ],
          [
           "2013/14"
          ],
          [
           "2013/14"
          ],
          [
           "2013/14"
          ],
          [
           "2013/14"
          ],
          [
           "2013/14"
          ],
          [
           "2013/14"
          ],
          [
           "2013/14"
          ],
          [
           "2013/14"
          ],
          [
           "2013/14"
          ],
          [
           "2013/14"
          ],
          [
           "2013/14"
          ],
          [
           "2014/15"
          ],
          [
           "2014/15"
          ],
          [
           "2014/15"
          ],
          [
           "2014/15"
          ],
          [
           "2014/15"
          ],
          [
           "2014/15"
          ],
          [
           "2014/15"
          ],
          [
           "2014/15"
          ],
          [
           "2014/15"
          ],
          [
           "2014/15"
          ],
          [
           "2014/15"
          ],
          [
           "2014/15"
          ],
          [
           "2015/16"
          ],
          [
           "2015/16"
          ],
          [
           "2015/16"
          ],
          [
           "2015/16"
          ],
          [
           "2015/16"
          ],
          [
           "2015/16"
          ],
          [
           "2015/16"
          ],
          [
           "2015/16"
          ],
          [
           "2015/16"
          ],
          [
           "2015/16"
          ],
          [
           "2015/16"
          ],
          [
           "2015/16"
          ],
          [
           "2016/17"
          ],
          [
           "2016/17"
          ],
          [
           "2016/17"
          ],
          [
           "2016/17"
          ],
          [
           "2016/17"
          ],
          [
           "2016/17"
          ],
          [
           "2016/17"
          ],
          [
           "2016/17"
          ],
          [
           "2016/17"
          ],
          [
           "2016/17"
          ],
          [
           "2016/17"
          ],
          [
           "2016/17"
          ],
          [
           "2017/18"
          ],
          [
           "2017/18"
          ],
          [
           "2017/18"
          ],
          [
           "2017/18"
          ],
          [
           "2017/18"
          ],
          [
           "2017/18"
          ],
          [
           "2017/18"
          ],
          [
           "2017/18"
          ],
          [
           "2017/18"
          ],
          [
           "2017/18"
          ],
          [
           "2017/18"
          ],
          [
           "2017/18"
          ],
          [
           "2018/19"
          ],
          [
           "2018/19"
          ],
          [
           "2018/19"
          ],
          [
           "2018/19"
          ],
          [
           "2018/19"
          ],
          [
           "2018/19"
          ],
          [
           "2018/19"
          ],
          [
           "2018/19"
          ],
          [
           "2018/19"
          ],
          [
           "2018/19"
          ],
          [
           "2018/19"
          ],
          [
           "2019/20"
          ],
          [
           "2019/20"
          ],
          [
           "2019/20"
          ],
          [
           "2019/20"
          ],
          [
           "2019/20"
          ],
          [
           "2019/20"
          ],
          [
           "2019/20"
          ],
          [
           "2019/20"
          ],
          [
           "2019/20"
          ],
          [
           "2019/20"
          ],
          [
           "2019/20"
          ],
          [
           "2019/20"
          ],
          [
           "2020/21"
          ],
          [
           "2020/21"
          ],
          [
           "2020/21"
          ],
          [
           "2020/21"
          ],
          [
           "2020/21"
          ],
          [
           "2020/21"
          ],
          [
           "2020/21"
          ],
          [
           "2020/21"
          ],
          [
           "2020/21"
          ],
          [
           "2020/21"
          ],
          [
           "2020/21"
          ],
          [
           "2020/21"
          ],
          [
           "2021/22"
          ],
          [
           "2021/22"
          ],
          [
           "2021/22"
          ],
          [
           "2021/22"
          ],
          [
           "2021/22"
          ],
          [
           "2021/22"
          ],
          [
           "2021/22"
          ],
          [
           "2021/22"
          ],
          [
           "2021/22"
          ],
          [
           "2021/22"
          ],
          [
           "2021/22"
          ],
          [
           "2021/22"
          ],
          [
           "2022/23"
          ],
          [
           "2022/23"
          ]
         ],
         "hovertemplate": "ReleaseDate=%{x}<br>Value=%{y}<br>MarketYear=%{customdata[0]}<extra></extra>",
         "legendgroup": "",
         "line": {
          "color": "#636efa",
          "dash": "solid"
         },
         "marker": {
          "symbol": "circle"
         },
         "mode": "lines",
         "name": "",
         "orientation": "v",
         "showlegend": false,
         "type": "scatter",
         "x": [
          "2011-01-12T00:00:00",
          "2011-02-09T00:00:00",
          "2011-03-10T00:00:00",
          "2011-04-08T00:00:00",
          "2011-05-11T00:00:00",
          "2011-06-09T00:00:00",
          "2011-07-12T00:00:00",
          "2011-08-11T00:00:00",
          "2011-09-12T00:00:00",
          "2011-10-12T00:00:00",
          "2011-11-09T00:00:00",
          "2011-12-09T00:00:00",
          "2012-01-12T00:00:00",
          "2012-02-09T00:00:00",
          "2012-03-09T00:00:00",
          "2012-04-10T00:00:00",
          "2012-05-10T00:00:00",
          "2012-06-12T00:00:00",
          "2012-07-11T00:00:00",
          "2012-08-10T00:00:00",
          "2012-09-12T00:00:00",
          "2012-10-11T00:00:00",
          "2012-11-09T00:00:00",
          "2012-12-11T00:00:00",
          "2013-01-11T00:00:00",
          "2013-02-08T00:00:00",
          "2013-03-08T00:00:00",
          "2013-04-10T00:00:00",
          "2013-05-10T00:00:00",
          "2013-06-12T00:00:00",
          "2013-07-11T00:00:00",
          "2013-08-12T00:00:00",
          "2013-09-12T00:00:00",
          "2013-11-08T00:00:00",
          "2013-12-10T00:00:00",
          "2014-01-10T00:00:00",
          "2014-02-10T00:00:00",
          "2014-03-10T00:00:00",
          "2014-04-09T00:00:00",
          "2014-05-09T00:00:00",
          "2014-06-11T00:00:00",
          "2014-07-11T00:00:00",
          "2014-08-12T00:00:00",
          "2014-09-11T00:00:00",
          "2014-10-10T00:00:00",
          "2014-11-10T00:00:00",
          "2014-12-10T00:00:00",
          "2015-01-12T00:00:00",
          "2015-02-10T00:00:00",
          "2015-03-10T00:00:00",
          "2015-04-09T00:00:00",
          "2015-05-12T00:00:00",
          "2015-06-10T00:00:00",
          "2015-07-10T00:00:00",
          "2015-08-12T00:00:00",
          "2015-09-11T00:00:00",
          "2015-10-09T00:00:00",
          "2015-11-10T00:00:00",
          "2015-12-09T00:00:00",
          "2016-01-12T00:00:00",
          "2016-02-09T00:00:00",
          "2016-03-09T00:00:00",
          "2016-04-12T00:00:00",
          "2016-05-10T00:00:00",
          "2016-06-10T00:00:00",
          "2016-07-12T00:00:00",
          "2016-08-12T00:00:00",
          "2016-09-12T00:00:00",
          "2016-10-12T00:00:00",
          "2016-11-09T00:00:00",
          "2016-12-09T00:00:00",
          "2017-01-12T00:00:00",
          "2017-02-09T00:00:00",
          "2017-03-09T00:00:00",
          "2017-04-11T00:00:00",
          "2017-05-10T00:00:00",
          "2017-06-09T00:00:00",
          "2017-07-12T00:00:00",
          "2017-08-10T00:00:00",
          "2017-09-12T00:00:00",
          "2017-10-12T00:00:00",
          "2017-11-09T00:00:00",
          "2017-12-12T00:00:00",
          "2018-01-12T00:00:00",
          "2018-02-08T00:00:00",
          "2018-03-08T00:00:00",
          "2018-04-10T00:00:00",
          "2018-05-10T00:00:00",
          "2018-06-12T00:00:00",
          "2018-07-12T00:00:00",
          "2018-08-10T00:00:00",
          "2018-09-12T00:00:00",
          "2018-10-11T00:00:00",
          "2018-11-08T00:00:00",
          "2018-12-11T00:00:00",
          "2019-02-08T00:00:00",
          "2019-03-08T00:00:00",
          "2019-04-09T00:00:00",
          "2019-05-10T00:00:00",
          "2019-06-11T00:00:00",
          "2019-07-11T00:00:00",
          "2019-08-12T00:00:00",
          "2019-09-12T00:00:00",
          "2019-10-10T00:00:00",
          "2019-11-08T00:00:00",
          "2019-12-10T00:00:00",
          "2020-01-10T00:00:00",
          "2020-02-11T00:00:00",
          "2020-03-10T00:00:00",
          "2020-04-09T00:00:00",
          "2020-05-12T00:00:00",
          "2020-06-11T00:00:00",
          "2020-07-10T00:00:00",
          "2020-08-12T00:00:00",
          "2020-09-11T00:00:00",
          "2020-10-09T00:00:00",
          "2020-11-10T00:00:00",
          "2020-12-10T00:00:00",
          "2021-01-12T00:00:00",
          "2021-02-09T00:00:00",
          "2021-03-09T00:00:00",
          "2021-04-09T00:00:00",
          "2021-05-12T00:00:00",
          "2021-06-10T00:00:00",
          "2021-07-12T00:00:00",
          "2021-08-12T00:00:00",
          "2021-09-10T00:00:00",
          "2021-10-12T00:00:00",
          "2021-11-09T00:00:00",
          "2021-12-09T00:00:00",
          "2022-01-12T00:00:00",
          "2022-02-09T00:00:00",
          "2022-03-09T00:00:00",
          "2022-04-08T00:00:00",
          "2022-05-12T00:00:00",
          "2022-06-10T00:00:00"
         ],
         "xaxis": "x",
         "y": [
          51,
          51,
          53,
          55,
          55,
          55,
          55,
          57,
          61,
          61,
          61,
          61,
          61,
          61,
          62,
          62,
          67,
          67,
          67,
          70,
          70,
          70,
          70,
          70,
          71,
          72.5,
          72.5,
          74,
          72,
          72,
          72,
          72,
          72,
          70,
          70,
          70,
          70,
          70,
          72,
          74,
          74,
          74,
          74,
          75,
          75,
          75,
          75,
          75,
          75,
          75,
          75,
          75,
          75,
          77,
          79,
          79,
          80,
          81.5,
          81.5,
          81.5,
          84,
          84,
          84,
          82,
          82,
          80,
          80,
          82.5,
          83.5,
          83.5,
          86.5,
          86.5,
          86.5,
          91.5,
          93.5,
          95,
          95,
          95,
          95,
          95,
          95,
          95,
          95,
          95,
          95,
          94.5,
          92,
          96,
          96,
          96,
          94.5,
          94.5,
          94.5,
          94.5,
          94.5,
          94.5,
          94.5,
          96,
          101,
          101,
          101,
          101,
          101,
          101,
          101,
          101,
          101,
          101,
          101,
          101,
          106,
          107,
          107,
          107,
          110,
          110,
          110,
          110,
          109,
          109,
          109,
          109,
          118,
          118,
          118,
          118,
          118,
          118,
          118,
          118,
          115,
          114,
          114,
          116,
          126,
          126
         ],
         "yaxis": "y"
        }
       ],
       "layout": {
        "legend": {
         "tracegroupgap": 0
        },
        "margin": {
         "t": 60
        },
        "template": {
         "data": {
          "bar": [
           {
            "error_x": {
             "color": "#2a3f5f"
            },
            "error_y": {
             "color": "#2a3f5f"
            },
            "marker": {
             "line": {
              "color": "#E5ECF6",
              "width": 0.5
             },
             "pattern": {
              "fillmode": "overlay",
              "size": 10,
              "solidity": 0.2
             }
            },
            "type": "bar"
           }
          ],
          "barpolar": [
           {
            "marker": {
             "line": {
              "color": "#E5ECF6",
              "width": 0.5
             },
             "pattern": {
              "fillmode": "overlay",
              "size": 10,
              "solidity": 0.2
             }
            },
            "type": "barpolar"
           }
          ],
          "carpet": [
           {
            "aaxis": {
             "endlinecolor": "#2a3f5f",
             "gridcolor": "white",
             "linecolor": "white",
             "minorgridcolor": "white",
             "startlinecolor": "#2a3f5f"
            },
            "baxis": {
             "endlinecolor": "#2a3f5f",
             "gridcolor": "white",
             "linecolor": "white",
             "minorgridcolor": "white",
             "startlinecolor": "#2a3f5f"
            },
            "type": "carpet"
           }
          ],
          "choropleth": [
           {
            "colorbar": {
             "outlinewidth": 0,
             "ticks": ""
            },
            "type": "choropleth"
           }
          ],
          "contour": [
           {
            "colorbar": {
             "outlinewidth": 0,
             "ticks": ""
            },
            "colorscale": [
             [
              0,
              "#0d0887"
             ],
             [
              0.1111111111111111,
              "#46039f"
             ],
             [
              0.2222222222222222,
              "#7201a8"
             ],
             [
              0.3333333333333333,
              "#9c179e"
             ],
             [
              0.4444444444444444,
              "#bd3786"
             ],
             [
              0.5555555555555556,
              "#d8576b"
             ],
             [
              0.6666666666666666,
              "#ed7953"
             ],
             [
              0.7777777777777778,
              "#fb9f3a"
             ],
             [
              0.8888888888888888,
              "#fdca26"
             ],
             [
              1,
              "#f0f921"
             ]
            ],
            "type": "contour"
           }
          ],
          "contourcarpet": [
           {
            "colorbar": {
             "outlinewidth": 0,
             "ticks": ""
            },
            "type": "contourcarpet"
           }
          ],
          "heatmap": [
           {
            "colorbar": {
             "outlinewidth": 0,
             "ticks": ""
            },
            "colorscale": [
             [
              0,
              "#0d0887"
             ],
             [
              0.1111111111111111,
              "#46039f"
             ],
             [
              0.2222222222222222,
              "#7201a8"
             ],
             [
              0.3333333333333333,
              "#9c179e"
             ],
             [
              0.4444444444444444,
              "#bd3786"
             ],
             [
              0.5555555555555556,
              "#d8576b"
             ],
             [
              0.6666666666666666,
              "#ed7953"
             ],
             [
              0.7777777777777778,
              "#fb9f3a"
             ],
             [
              0.8888888888888888,
              "#fdca26"
             ],
             [
              1,
              "#f0f921"
             ]
            ],
            "type": "heatmap"
           }
          ],
          "heatmapgl": [
           {
            "colorbar": {
             "outlinewidth": 0,
             "ticks": ""
            },
            "colorscale": [
             [
              0,
              "#0d0887"
             ],
             [
              0.1111111111111111,
              "#46039f"
             ],
             [
              0.2222222222222222,
              "#7201a8"
             ],
             [
              0.3333333333333333,
              "#9c179e"
             ],
             [
              0.4444444444444444,
              "#bd3786"
             ],
             [
              0.5555555555555556,
              "#d8576b"
             ],
             [
              0.6666666666666666,
              "#ed7953"
             ],
             [
              0.7777777777777778,
              "#fb9f3a"
             ],
             [
              0.8888888888888888,
              "#fdca26"
             ],
             [
              1,
              "#f0f921"
             ]
            ],
            "type": "heatmapgl"
           }
          ],
          "histogram": [
           {
            "marker": {
             "pattern": {
              "fillmode": "overlay",
              "size": 10,
              "solidity": 0.2
             }
            },
            "type": "histogram"
           }
          ],
          "histogram2d": [
           {
            "colorbar": {
             "outlinewidth": 0,
             "ticks": ""
            },
            "colorscale": [
             [
              0,
              "#0d0887"
             ],
             [
              0.1111111111111111,
              "#46039f"
             ],
             [
              0.2222222222222222,
              "#7201a8"
             ],
             [
              0.3333333333333333,
              "#9c179e"
             ],
             [
              0.4444444444444444,
              "#bd3786"
             ],
             [
              0.5555555555555556,
              "#d8576b"
             ],
             [
              0.6666666666666666,
              "#ed7953"
             ],
             [
              0.7777777777777778,
              "#fb9f3a"
             ],
             [
              0.8888888888888888,
              "#fdca26"
             ],
             [
              1,
              "#f0f921"
             ]
            ],
            "type": "histogram2d"
           }
          ],
          "histogram2dcontour": [
           {
            "colorbar": {
             "outlinewidth": 0,
             "ticks": ""
            },
            "colorscale": [
             [
              0,
              "#0d0887"
             ],
             [
              0.1111111111111111,
              "#46039f"
             ],
             [
              0.2222222222222222,
              "#7201a8"
             ],
             [
              0.3333333333333333,
              "#9c179e"
             ],
             [
              0.4444444444444444,
              "#bd3786"
             ],
             [
              0.5555555555555556,
              "#d8576b"
             ],
             [
              0.6666666666666666,
              "#ed7953"
             ],
             [
              0.7777777777777778,
              "#fb9f3a"
             ],
             [
              0.8888888888888888,
              "#fdca26"
             ],
             [
              1,
              "#f0f921"
             ]
            ],
            "type": "histogram2dcontour"
           }
          ],
          "mesh3d": [
           {
            "colorbar": {
             "outlinewidth": 0,
             "ticks": ""
            },
            "type": "mesh3d"
           }
          ],
          "parcoords": [
           {
            "line": {
             "colorbar": {
              "outlinewidth": 0,
              "ticks": ""
             }
            },
            "type": "parcoords"
           }
          ],
          "pie": [
           {
            "automargin": true,
            "type": "pie"
           }
          ],
          "scatter": [
           {
            "fillpattern": {
             "fillmode": "overlay",
             "size": 10,
             "solidity": 0.2
            },
            "type": "scatter"
           }
          ],
          "scatter3d": [
           {
            "line": {
             "colorbar": {
              "outlinewidth": 0,
              "ticks": ""
             }
            },
            "marker": {
             "colorbar": {
              "outlinewidth": 0,
              "ticks": ""
             }
            },
            "type": "scatter3d"
           }
          ],
          "scattercarpet": [
           {
            "marker": {
             "colorbar": {
              "outlinewidth": 0,
              "ticks": ""
             }
            },
            "type": "scattercarpet"
           }
          ],
          "scattergeo": [
           {
            "marker": {
             "colorbar": {
              "outlinewidth": 0,
              "ticks": ""
             }
            },
            "type": "scattergeo"
           }
          ],
          "scattergl": [
           {
            "marker": {
             "colorbar": {
              "outlinewidth": 0,
              "ticks": ""
             }
            },
            "type": "scattergl"
           }
          ],
          "scattermapbox": [
           {
            "marker": {
             "colorbar": {
              "outlinewidth": 0,
              "ticks": ""
             }
            },
            "type": "scattermapbox"
           }
          ],
          "scatterpolar": [
           {
            "marker": {
             "colorbar": {
              "outlinewidth": 0,
              "ticks": ""
             }
            },
            "type": "scatterpolar"
           }
          ],
          "scatterpolargl": [
           {
            "marker": {
             "colorbar": {
              "outlinewidth": 0,
              "ticks": ""
             }
            },
            "type": "scatterpolargl"
           }
          ],
          "scatterternary": [
           {
            "marker": {
             "colorbar": {
              "outlinewidth": 0,
              "ticks": ""
             }
            },
            "type": "scatterternary"
           }
          ],
          "surface": [
           {
            "colorbar": {
             "outlinewidth": 0,
             "ticks": ""
            },
            "colorscale": [
             [
              0,
              "#0d0887"
             ],
             [
              0.1111111111111111,
              "#46039f"
             ],
             [
              0.2222222222222222,
              "#7201a8"
             ],
             [
              0.3333333333333333,
              "#9c179e"
             ],
             [
              0.4444444444444444,
              "#bd3786"
             ],
             [
              0.5555555555555556,
              "#d8576b"
             ],
             [
              0.6666666666666666,
              "#ed7953"
             ],
             [
              0.7777777777777778,
              "#fb9f3a"
             ],
             [
              0.8888888888888888,
              "#fdca26"
             ],
             [
              1,
              "#f0f921"
             ]
            ],
            "type": "surface"
           }
          ],
          "table": [
           {
            "cells": {
             "fill": {
              "color": "#EBF0F8"
             },
             "line": {
              "color": "white"
             }
            },
            "header": {
             "fill": {
              "color": "#C8D4E3"
             },
             "line": {
              "color": "white"
             }
            },
            "type": "table"
           }
          ]
         },
         "layout": {
          "annotationdefaults": {
           "arrowcolor": "#2a3f5f",
           "arrowhead": 0,
           "arrowwidth": 1
          },
          "autotypenumbers": "strict",
          "coloraxis": {
           "colorbar": {
            "outlinewidth": 0,
            "ticks": ""
           }
          },
          "colorscale": {
           "diverging": [
            [
             0,
             "#8e0152"
            ],
            [
             0.1,
             "#c51b7d"
            ],
            [
             0.2,
             "#de77ae"
            ],
            [
             0.3,
             "#f1b6da"
            ],
            [
             0.4,
             "#fde0ef"
            ],
            [
             0.5,
             "#f7f7f7"
            ],
            [
             0.6,
             "#e6f5d0"
            ],
            [
             0.7,
             "#b8e186"
            ],
            [
             0.8,
             "#7fbc41"
            ],
            [
             0.9,
             "#4d9221"
            ],
            [
             1,
             "#276419"
            ]
           ],
           "sequential": [
            [
             0,
             "#0d0887"
            ],
            [
             0.1111111111111111,
             "#46039f"
            ],
            [
             0.2222222222222222,
             "#7201a8"
            ],
            [
             0.3333333333333333,
             "#9c179e"
            ],
            [
             0.4444444444444444,
             "#bd3786"
            ],
            [
             0.5555555555555556,
             "#d8576b"
            ],
            [
             0.6666666666666666,
             "#ed7953"
            ],
            [
             0.7777777777777778,
             "#fb9f3a"
            ],
            [
             0.8888888888888888,
             "#fdca26"
            ],
            [
             1,
             "#f0f921"
            ]
           ],
           "sequentialminus": [
            [
             0,
             "#0d0887"
            ],
            [
             0.1111111111111111,
             "#46039f"
            ],
            [
             0.2222222222222222,
             "#7201a8"
            ],
            [
             0.3333333333333333,
             "#9c179e"
            ],
            [
             0.4444444444444444,
             "#bd3786"
            ],
            [
             0.5555555555555556,
             "#d8576b"
            ],
            [
             0.6666666666666666,
             "#ed7953"
            ],
            [
             0.7777777777777778,
             "#fb9f3a"
            ],
            [
             0.8888888888888888,
             "#fdca26"
            ],
            [
             1,
             "#f0f921"
            ]
           ]
          },
          "colorway": [
           "#636efa",
           "#EF553B",
           "#00cc96",
           "#ab63fa",
           "#FFA15A",
           "#19d3f3",
           "#FF6692",
           "#B6E880",
           "#FF97FF",
           "#FECB52"
          ],
          "font": {
           "color": "#2a3f5f"
          },
          "geo": {
           "bgcolor": "white",
           "lakecolor": "white",
           "landcolor": "#E5ECF6",
           "showlakes": true,
           "showland": true,
           "subunitcolor": "white"
          },
          "hoverlabel": {
           "align": "left"
          },
          "hovermode": "closest",
          "mapbox": {
           "style": "light"
          },
          "paper_bgcolor": "white",
          "plot_bgcolor": "#E5ECF6",
          "polar": {
           "angularaxis": {
            "gridcolor": "white",
            "linecolor": "white",
            "ticks": ""
           },
           "bgcolor": "#E5ECF6",
           "radialaxis": {
            "gridcolor": "white",
            "linecolor": "white",
            "ticks": ""
           }
          },
          "scene": {
           "xaxis": {
            "backgroundcolor": "#E5ECF6",
            "gridcolor": "white",
            "gridwidth": 2,
            "linecolor": "white",
            "showbackground": true,
            "ticks": "",
            "zerolinecolor": "white"
           },
           "yaxis": {
            "backgroundcolor": "#E5ECF6",
            "gridcolor": "white",
            "gridwidth": 2,
            "linecolor": "white",
            "showbackground": true,
            "ticks": "",
            "zerolinecolor": "white"
           },
           "zaxis": {
            "backgroundcolor": "#E5ECF6",
            "gridcolor": "white",
            "gridwidth": 2,
            "linecolor": "white",
            "showbackground": true,
            "ticks": "",
            "zerolinecolor": "white"
           }
          },
          "shapedefaults": {
           "line": {
            "color": "#2a3f5f"
           }
          },
          "ternary": {
           "aaxis": {
            "gridcolor": "white",
            "linecolor": "white",
            "ticks": ""
           },
           "baxis": {
            "gridcolor": "white",
            "linecolor": "white",
            "ticks": ""
           },
           "bgcolor": "#E5ECF6",
           "caxis": {
            "gridcolor": "white",
            "linecolor": "white",
            "ticks": ""
           }
          },
          "title": {
           "x": 0.05
          },
          "xaxis": {
           "automargin": true,
           "gridcolor": "white",
           "linecolor": "white",
           "ticks": "",
           "title": {
            "standoff": 15
           },
           "zerolinecolor": "white",
           "zerolinewidth": 2
          },
          "yaxis": {
           "automargin": true,
           "gridcolor": "white",
           "linecolor": "white",
           "ticks": "",
           "title": {
            "standoff": 15
           },
           "zerolinecolor": "white",
           "zerolinewidth": 2
          }
         }
        },
        "title": {
         "text": "Brazil Corn Production (Proj.)"
        },
        "xaxis": {
         "anchor": "y",
         "domain": [
          0,
          1
         ],
         "title": {
          "text": "ReleaseDate"
         }
        },
        "yaxis": {
         "anchor": "x",
         "domain": [
          0,
          1
         ],
         "title": {
          "text": "Value"
         }
        }
       }
      },
      "text/html": [
       "<div>                            <div id=\"4d91664b-5dc8-40de-9452-de569377831e\" class=\"plotly-graph-div\" style=\"height:525px; width:100%;\"></div>            <script type=\"text/javascript\">                require([\"plotly\"], function(Plotly) {                    window.PLOTLYENV=window.PLOTLYENV || {};                                    if (document.getElementById(\"4d91664b-5dc8-40de-9452-de569377831e\")) {                    Plotly.newPlot(                        \"4d91664b-5dc8-40de-9452-de569377831e\",                        [{\"customdata\":[[\"2010/11\"],[\"2010/11\"],[\"2010/11\"],[\"2010/11\"],[\"2011/12\"],[\"2011/12\"],[\"2011/12\"],[\"2011/12\"],[\"2011/12\"],[\"2011/12\"],[\"2011/12\"],[\"2011/12\"],[\"2011/12\"],[\"2011/12\"],[\"2011/12\"],[\"2011/12\"],[\"2012/13\"],[\"2012/13\"],[\"2012/13\"],[\"2012/13\"],[\"2012/13\"],[\"2012/13\"],[\"2012/13\"],[\"2012/13\"],[\"2012/13\"],[\"2012/13\"],[\"2012/13\"],[\"2012/13\"],[\"2013/14\"],[\"2013/14\"],[\"2013/14\"],[\"2013/14\"],[\"2013/14\"],[\"2013/14\"],[\"2013/14\"],[\"2013/14\"],[\"2013/14\"],[\"2013/14\"],[\"2013/14\"],[\"2014/15\"],[\"2014/15\"],[\"2014/15\"],[\"2014/15\"],[\"2014/15\"],[\"2014/15\"],[\"2014/15\"],[\"2014/15\"],[\"2014/15\"],[\"2014/15\"],[\"2014/15\"],[\"2014/15\"],[\"2015/16\"],[\"2015/16\"],[\"2015/16\"],[\"2015/16\"],[\"2015/16\"],[\"2015/16\"],[\"2015/16\"],[\"2015/16\"],[\"2015/16\"],[\"2015/16\"],[\"2015/16\"],[\"2015/16\"],[\"2016/17\"],[\"2016/17\"],[\"2016/17\"],[\"2016/17\"],[\"2016/17\"],[\"2016/17\"],[\"2016/17\"],[\"2016/17\"],[\"2016/17\"],[\"2016/17\"],[\"2016/17\"],[\"2016/17\"],[\"2017/18\"],[\"2017/18\"],[\"2017/18\"],[\"2017/18\"],[\"2017/18\"],[\"2017/18\"],[\"2017/18\"],[\"2017/18\"],[\"2017/18\"],[\"2017/18\"],[\"2017/18\"],[\"2017/18\"],[\"2018/19\"],[\"2018/19\"],[\"2018/19\"],[\"2018/19\"],[\"2018/19\"],[\"2018/19\"],[\"2018/19\"],[\"2018/19\"],[\"2018/19\"],[\"2018/19\"],[\"2018/19\"],[\"2019/20\"],[\"2019/20\"],[\"2019/20\"],[\"2019/20\"],[\"2019/20\"],[\"2019/20\"],[\"2019/20\"],[\"2019/20\"],[\"2019/20\"],[\"2019/20\"],[\"2019/20\"],[\"2019/20\"],[\"2020/21\"],[\"2020/21\"],[\"2020/21\"],[\"2020/21\"],[\"2020/21\"],[\"2020/21\"],[\"2020/21\"],[\"2020/21\"],[\"2020/21\"],[\"2020/21\"],[\"2020/21\"],[\"2020/21\"],[\"2021/22\"],[\"2021/22\"],[\"2021/22\"],[\"2021/22\"],[\"2021/22\"],[\"2021/22\"],[\"2021/22\"],[\"2021/22\"],[\"2021/22\"],[\"2021/22\"],[\"2021/22\"],[\"2021/22\"],[\"2022/23\"],[\"2022/23\"]],\"hovertemplate\":\"ReleaseDate=%{x}<br>Value=%{y}<br>MarketYear=%{customdata[0]}<extra></extra>\",\"legendgroup\":\"\",\"line\":{\"color\":\"#636efa\",\"dash\":\"solid\"},\"marker\":{\"symbol\":\"circle\"},\"mode\":\"lines\",\"name\":\"\",\"orientation\":\"v\",\"showlegend\":false,\"x\":[\"2011-01-12T00:00:00\",\"2011-02-09T00:00:00\",\"2011-03-10T00:00:00\",\"2011-04-08T00:00:00\",\"2011-05-11T00:00:00\",\"2011-06-09T00:00:00\",\"2011-07-12T00:00:00\",\"2011-08-11T00:00:00\",\"2011-09-12T00:00:00\",\"2011-10-12T00:00:00\",\"2011-11-09T00:00:00\",\"2011-12-09T00:00:00\",\"2012-01-12T00:00:00\",\"2012-02-09T00:00:00\",\"2012-03-09T00:00:00\",\"2012-04-10T00:00:00\",\"2012-05-10T00:00:00\",\"2012-06-12T00:00:00\",\"2012-07-11T00:00:00\",\"2012-08-10T00:00:00\",\"2012-09-12T00:00:00\",\"2012-10-11T00:00:00\",\"2012-11-09T00:00:00\",\"2012-12-11T00:00:00\",\"2013-01-11T00:00:00\",\"2013-02-08T00:00:00\",\"2013-03-08T00:00:00\",\"2013-04-10T00:00:00\",\"2013-05-10T00:00:00\",\"2013-06-12T00:00:00\",\"2013-07-11T00:00:00\",\"2013-08-12T00:00:00\",\"2013-09-12T00:00:00\",\"2013-11-08T00:00:00\",\"2013-12-10T00:00:00\",\"2014-01-10T00:00:00\",\"2014-02-10T00:00:00\",\"2014-03-10T00:00:00\",\"2014-04-09T00:00:00\",\"2014-05-09T00:00:00\",\"2014-06-11T00:00:00\",\"2014-07-11T00:00:00\",\"2014-08-12T00:00:00\",\"2014-09-11T00:00:00\",\"2014-10-10T00:00:00\",\"2014-11-10T00:00:00\",\"2014-12-10T00:00:00\",\"2015-01-12T00:00:00\",\"2015-02-10T00:00:00\",\"2015-03-10T00:00:00\",\"2015-04-09T00:00:00\",\"2015-05-12T00:00:00\",\"2015-06-10T00:00:00\",\"2015-07-10T00:00:00\",\"2015-08-12T00:00:00\",\"2015-09-11T00:00:00\",\"2015-10-09T00:00:00\",\"2015-11-10T00:00:00\",\"2015-12-09T00:00:00\",\"2016-01-12T00:00:00\",\"2016-02-09T00:00:00\",\"2016-03-09T00:00:00\",\"2016-04-12T00:00:00\",\"2016-05-10T00:00:00\",\"2016-06-10T00:00:00\",\"2016-07-12T00:00:00\",\"2016-08-12T00:00:00\",\"2016-09-12T00:00:00\",\"2016-10-12T00:00:00\",\"2016-11-09T00:00:00\",\"2016-12-09T00:00:00\",\"2017-01-12T00:00:00\",\"2017-02-09T00:00:00\",\"2017-03-09T00:00:00\",\"2017-04-11T00:00:00\",\"2017-05-10T00:00:00\",\"2017-06-09T00:00:00\",\"2017-07-12T00:00:00\",\"2017-08-10T00:00:00\",\"2017-09-12T00:00:00\",\"2017-10-12T00:00:00\",\"2017-11-09T00:00:00\",\"2017-12-12T00:00:00\",\"2018-01-12T00:00:00\",\"2018-02-08T00:00:00\",\"2018-03-08T00:00:00\",\"2018-04-10T00:00:00\",\"2018-05-10T00:00:00\",\"2018-06-12T00:00:00\",\"2018-07-12T00:00:00\",\"2018-08-10T00:00:00\",\"2018-09-12T00:00:00\",\"2018-10-11T00:00:00\",\"2018-11-08T00:00:00\",\"2018-12-11T00:00:00\",\"2019-02-08T00:00:00\",\"2019-03-08T00:00:00\",\"2019-04-09T00:00:00\",\"2019-05-10T00:00:00\",\"2019-06-11T00:00:00\",\"2019-07-11T00:00:00\",\"2019-08-12T00:00:00\",\"2019-09-12T00:00:00\",\"2019-10-10T00:00:00\",\"2019-11-08T00:00:00\",\"2019-12-10T00:00:00\",\"2020-01-10T00:00:00\",\"2020-02-11T00:00:00\",\"2020-03-10T00:00:00\",\"2020-04-09T00:00:00\",\"2020-05-12T00:00:00\",\"2020-06-11T00:00:00\",\"2020-07-10T00:00:00\",\"2020-08-12T00:00:00\",\"2020-09-11T00:00:00\",\"2020-10-09T00:00:00\",\"2020-11-10T00:00:00\",\"2020-12-10T00:00:00\",\"2021-01-12T00:00:00\",\"2021-02-09T00:00:00\",\"2021-03-09T00:00:00\",\"2021-04-09T00:00:00\",\"2021-05-12T00:00:00\",\"2021-06-10T00:00:00\",\"2021-07-12T00:00:00\",\"2021-08-12T00:00:00\",\"2021-09-10T00:00:00\",\"2021-10-12T00:00:00\",\"2021-11-09T00:00:00\",\"2021-12-09T00:00:00\",\"2022-01-12T00:00:00\",\"2022-02-09T00:00:00\",\"2022-03-09T00:00:00\",\"2022-04-08T00:00:00\",\"2022-05-12T00:00:00\",\"2022-06-10T00:00:00\"],\"xaxis\":\"x\",\"y\":[51.0,51.0,53.0,55.0,55.0,55.0,55.0,57.0,61.0,61.0,61.0,61.0,61.0,61.0,62.0,62.0,67.0,67.0,67.0,70.0,70.0,70.0,70.0,70.0,71.0,72.5,72.5,74.0,72.0,72.0,72.0,72.0,72.0,70.0,70.0,70.0,70.0,70.0,72.0,74.0,74.0,74.0,74.0,75.0,75.0,75.0,75.0,75.0,75.0,75.0,75.0,75.0,75.0,77.0,79.0,79.0,80.0,81.5,81.5,81.5,84.0,84.0,84.0,82.0,82.0,80.0,80.0,82.5,83.5,83.5,86.5,86.5,86.5,91.5,93.5,95.0,95.0,95.0,95.0,95.0,95.0,95.0,95.0,95.0,95.0,94.5,92.0,96.0,96.0,96.0,94.5,94.5,94.5,94.5,94.5,94.5,94.5,96.0,101.0,101.0,101.0,101.0,101.0,101.0,101.0,101.0,101.0,101.0,101.0,101.0,106.0,107.0,107.0,107.0,110.0,110.0,110.0,110.0,109.0,109.0,109.0,109.0,118.0,118.0,118.0,118.0,118.0,118.0,118.0,118.0,115.0,114.0,114.0,116.0,126.0,126.0],\"yaxis\":\"y\",\"type\":\"scatter\"}],                        {\"template\":{\"data\":{\"histogram2dcontour\":[{\"type\":\"histogram2dcontour\",\"colorbar\":{\"outlinewidth\":0,\"ticks\":\"\"},\"colorscale\":[[0.0,\"#0d0887\"],[0.1111111111111111,\"#46039f\"],[0.2222222222222222,\"#7201a8\"],[0.3333333333333333,\"#9c179e\"],[0.4444444444444444,\"#bd3786\"],[0.5555555555555556,\"#d8576b\"],[0.6666666666666666,\"#ed7953\"],[0.7777777777777778,\"#fb9f3a\"],[0.8888888888888888,\"#fdca26\"],[1.0,\"#f0f921\"]]}],\"choropleth\":[{\"type\":\"choropleth\",\"colorbar\":{\"outlinewidth\":0,\"ticks\":\"\"}}],\"histogram2d\":[{\"type\":\"histogram2d\",\"colorbar\":{\"outlinewidth\":0,\"ticks\":\"\"},\"colorscale\":[[0.0,\"#0d0887\"],[0.1111111111111111,\"#46039f\"],[0.2222222222222222,\"#7201a8\"],[0.3333333333333333,\"#9c179e\"],[0.4444444444444444,\"#bd3786\"],[0.5555555555555556,\"#d8576b\"],[0.6666666666666666,\"#ed7953\"],[0.7777777777777778,\"#fb9f3a\"],[0.8888888888888888,\"#fdca26\"],[1.0,\"#f0f921\"]]}],\"heatmap\":[{\"type\":\"heatmap\",\"colorbar\":{\"outlinewidth\":0,\"ticks\":\"\"},\"colorscale\":[[0.0,\"#0d0887\"],[0.1111111111111111,\"#46039f\"],[0.2222222222222222,\"#7201a8\"],[0.3333333333333333,\"#9c179e\"],[0.4444444444444444,\"#bd3786\"],[0.5555555555555556,\"#d8576b\"],[0.6666666666666666,\"#ed7953\"],[0.7777777777777778,\"#fb9f3a\"],[0.8888888888888888,\"#fdca26\"],[1.0,\"#f0f921\"]]}],\"heatmapgl\":[{\"type\":\"heatmapgl\",\"colorbar\":{\"outlinewidth\":0,\"ticks\":\"\"},\"colorscale\":[[0.0,\"#0d0887\"],[0.1111111111111111,\"#46039f\"],[0.2222222222222222,\"#7201a8\"],[0.3333333333333333,\"#9c179e\"],[0.4444444444444444,\"#bd3786\"],[0.5555555555555556,\"#d8576b\"],[0.6666666666666666,\"#ed7953\"],[0.7777777777777778,\"#fb9f3a\"],[0.8888888888888888,\"#fdca26\"],[1.0,\"#f0f921\"]]}],\"contourcarpet\":[{\"type\":\"contourcarpet\",\"colorbar\":{\"outlinewidth\":0,\"ticks\":\"\"}}],\"contour\":[{\"type\":\"contour\",\"colorbar\":{\"outlinewidth\":0,\"ticks\":\"\"},\"colorscale\":[[0.0,\"#0d0887\"],[0.1111111111111111,\"#46039f\"],[0.2222222222222222,\"#7201a8\"],[0.3333333333333333,\"#9c179e\"],[0.4444444444444444,\"#bd3786\"],[0.5555555555555556,\"#d8576b\"],[0.6666666666666666,\"#ed7953\"],[0.7777777777777778,\"#fb9f3a\"],[0.8888888888888888,\"#fdca26\"],[1.0,\"#f0f921\"]]}],\"surface\":[{\"type\":\"surface\",\"colorbar\":{\"outlinewidth\":0,\"ticks\":\"\"},\"colorscale\":[[0.0,\"#0d0887\"],[0.1111111111111111,\"#46039f\"],[0.2222222222222222,\"#7201a8\"],[0.3333333333333333,\"#9c179e\"],[0.4444444444444444,\"#bd3786\"],[0.5555555555555556,\"#d8576b\"],[0.6666666666666666,\"#ed7953\"],[0.7777777777777778,\"#fb9f3a\"],[0.8888888888888888,\"#fdca26\"],[1.0,\"#f0f921\"]]}],\"mesh3d\":[{\"type\":\"mesh3d\",\"colorbar\":{\"outlinewidth\":0,\"ticks\":\"\"}}],\"scatter\":[{\"fillpattern\":{\"fillmode\":\"overlay\",\"size\":10,\"solidity\":0.2},\"type\":\"scatter\"}],\"parcoords\":[{\"type\":\"parcoords\",\"line\":{\"colorbar\":{\"outlinewidth\":0,\"ticks\":\"\"}}}],\"scatterpolargl\":[{\"type\":\"scatterpolargl\",\"marker\":{\"colorbar\":{\"outlinewidth\":0,\"ticks\":\"\"}}}],\"bar\":[{\"error_x\":{\"color\":\"#2a3f5f\"},\"error_y\":{\"color\":\"#2a3f5f\"},\"marker\":{\"line\":{\"color\":\"#E5ECF6\",\"width\":0.5},\"pattern\":{\"fillmode\":\"overlay\",\"size\":10,\"solidity\":0.2}},\"type\":\"bar\"}],\"scattergeo\":[{\"type\":\"scattergeo\",\"marker\":{\"colorbar\":{\"outlinewidth\":0,\"ticks\":\"\"}}}],\"scatterpolar\":[{\"type\":\"scatterpolar\",\"marker\":{\"colorbar\":{\"outlinewidth\":0,\"ticks\":\"\"}}}],\"histogram\":[{\"marker\":{\"pattern\":{\"fillmode\":\"overlay\",\"size\":10,\"solidity\":0.2}},\"type\":\"histogram\"}],\"scattergl\":[{\"type\":\"scattergl\",\"marker\":{\"colorbar\":{\"outlinewidth\":0,\"ticks\":\"\"}}}],\"scatter3d\":[{\"type\":\"scatter3d\",\"line\":{\"colorbar\":{\"outlinewidth\":0,\"ticks\":\"\"}},\"marker\":{\"colorbar\":{\"outlinewidth\":0,\"ticks\":\"\"}}}],\"scattermapbox\":[{\"type\":\"scattermapbox\",\"marker\":{\"colorbar\":{\"outlinewidth\":0,\"ticks\":\"\"}}}],\"scatterternary\":[{\"type\":\"scatterternary\",\"marker\":{\"colorbar\":{\"outlinewidth\":0,\"ticks\":\"\"}}}],\"scattercarpet\":[{\"type\":\"scattercarpet\",\"marker\":{\"colorbar\":{\"outlinewidth\":0,\"ticks\":\"\"}}}],\"carpet\":[{\"aaxis\":{\"endlinecolor\":\"#2a3f5f\",\"gridcolor\":\"white\",\"linecolor\":\"white\",\"minorgridcolor\":\"white\",\"startlinecolor\":\"#2a3f5f\"},\"baxis\":{\"endlinecolor\":\"#2a3f5f\",\"gridcolor\":\"white\",\"linecolor\":\"white\",\"minorgridcolor\":\"white\",\"startlinecolor\":\"#2a3f5f\"},\"type\":\"carpet\"}],\"table\":[{\"cells\":{\"fill\":{\"color\":\"#EBF0F8\"},\"line\":{\"color\":\"white\"}},\"header\":{\"fill\":{\"color\":\"#C8D4E3\"},\"line\":{\"color\":\"white\"}},\"type\":\"table\"}],\"barpolar\":[{\"marker\":{\"line\":{\"color\":\"#E5ECF6\",\"width\":0.5},\"pattern\":{\"fillmode\":\"overlay\",\"size\":10,\"solidity\":0.2}},\"type\":\"barpolar\"}],\"pie\":[{\"automargin\":true,\"type\":\"pie\"}]},\"layout\":{\"autotypenumbers\":\"strict\",\"colorway\":[\"#636efa\",\"#EF553B\",\"#00cc96\",\"#ab63fa\",\"#FFA15A\",\"#19d3f3\",\"#FF6692\",\"#B6E880\",\"#FF97FF\",\"#FECB52\"],\"font\":{\"color\":\"#2a3f5f\"},\"hovermode\":\"closest\",\"hoverlabel\":{\"align\":\"left\"},\"paper_bgcolor\":\"white\",\"plot_bgcolor\":\"#E5ECF6\",\"polar\":{\"bgcolor\":\"#E5ECF6\",\"angularaxis\":{\"gridcolor\":\"white\",\"linecolor\":\"white\",\"ticks\":\"\"},\"radialaxis\":{\"gridcolor\":\"white\",\"linecolor\":\"white\",\"ticks\":\"\"}},\"ternary\":{\"bgcolor\":\"#E5ECF6\",\"aaxis\":{\"gridcolor\":\"white\",\"linecolor\":\"white\",\"ticks\":\"\"},\"baxis\":{\"gridcolor\":\"white\",\"linecolor\":\"white\",\"ticks\":\"\"},\"caxis\":{\"gridcolor\":\"white\",\"linecolor\":\"white\",\"ticks\":\"\"}},\"coloraxis\":{\"colorbar\":{\"outlinewidth\":0,\"ticks\":\"\"}},\"colorscale\":{\"sequential\":[[0.0,\"#0d0887\"],[0.1111111111111111,\"#46039f\"],[0.2222222222222222,\"#7201a8\"],[0.3333333333333333,\"#9c179e\"],[0.4444444444444444,\"#bd3786\"],[0.5555555555555556,\"#d8576b\"],[0.6666666666666666,\"#ed7953\"],[0.7777777777777778,\"#fb9f3a\"],[0.8888888888888888,\"#fdca26\"],[1.0,\"#f0f921\"]],\"sequentialminus\":[[0.0,\"#0d0887\"],[0.1111111111111111,\"#46039f\"],[0.2222222222222222,\"#7201a8\"],[0.3333333333333333,\"#9c179e\"],[0.4444444444444444,\"#bd3786\"],[0.5555555555555556,\"#d8576b\"],[0.6666666666666666,\"#ed7953\"],[0.7777777777777778,\"#fb9f3a\"],[0.8888888888888888,\"#fdca26\"],[1.0,\"#f0f921\"]],\"diverging\":[[0,\"#8e0152\"],[0.1,\"#c51b7d\"],[0.2,\"#de77ae\"],[0.3,\"#f1b6da\"],[0.4,\"#fde0ef\"],[0.5,\"#f7f7f7\"],[0.6,\"#e6f5d0\"],[0.7,\"#b8e186\"],[0.8,\"#7fbc41\"],[0.9,\"#4d9221\"],[1,\"#276419\"]]},\"xaxis\":{\"gridcolor\":\"white\",\"linecolor\":\"white\",\"ticks\":\"\",\"title\":{\"standoff\":15},\"zerolinecolor\":\"white\",\"automargin\":true,\"zerolinewidth\":2},\"yaxis\":{\"gridcolor\":\"white\",\"linecolor\":\"white\",\"ticks\":\"\",\"title\":{\"standoff\":15},\"zerolinecolor\":\"white\",\"automargin\":true,\"zerolinewidth\":2},\"scene\":{\"xaxis\":{\"backgroundcolor\":\"#E5ECF6\",\"gridcolor\":\"white\",\"linecolor\":\"white\",\"showbackground\":true,\"ticks\":\"\",\"zerolinecolor\":\"white\",\"gridwidth\":2},\"yaxis\":{\"backgroundcolor\":\"#E5ECF6\",\"gridcolor\":\"white\",\"linecolor\":\"white\",\"showbackground\":true,\"ticks\":\"\",\"zerolinecolor\":\"white\",\"gridwidth\":2},\"zaxis\":{\"backgroundcolor\":\"#E5ECF6\",\"gridcolor\":\"white\",\"linecolor\":\"white\",\"showbackground\":true,\"ticks\":\"\",\"zerolinecolor\":\"white\",\"gridwidth\":2}},\"shapedefaults\":{\"line\":{\"color\":\"#2a3f5f\"}},\"annotationdefaults\":{\"arrowcolor\":\"#2a3f5f\",\"arrowhead\":0,\"arrowwidth\":1},\"geo\":{\"bgcolor\":\"white\",\"landcolor\":\"#E5ECF6\",\"subunitcolor\":\"white\",\"showland\":true,\"showlakes\":true,\"lakecolor\":\"white\"},\"title\":{\"x\":0.05},\"mapbox\":{\"style\":\"light\"}}},\"xaxis\":{\"anchor\":\"y\",\"domain\":[0.0,1.0],\"title\":{\"text\":\"ReleaseDate\"}},\"yaxis\":{\"anchor\":\"x\",\"domain\":[0.0,1.0],\"title\":{\"text\":\"Value\"}},\"legend\":{\"tracegroupgap\":0},\"margin\":{\"t\":60},\"title\":{\"text\":\"Brazil Corn Production (Proj.)\"}},                        {\"responsive\": true}                    ).then(function(){\n",
       "                            \n",
       "var gd = document.getElementById('4d91664b-5dc8-40de-9452-de569377831e');\n",
       "var x = new MutationObserver(function (mutations, observer) {{\n",
       "        var display = window.getComputedStyle(gd).display;\n",
       "        if (!display || display === 'none') {{\n",
       "            console.log([gd, 'removed!']);\n",
       "            Plotly.purge(gd);\n",
       "            observer.disconnect();\n",
       "        }}\n",
       "}});\n",
       "\n",
       "// Listen for the removal of the full notebook cells\n",
       "var notebookContainer = gd.closest('#notebook-container');\n",
       "if (notebookContainer) {{\n",
       "    x.observe(notebookContainer, {childList: true});\n",
       "}}\n",
       "\n",
       "// Listen for the clearing of the current output cell\n",
       "var outputEl = gd.closest('.output');\n",
       "if (outputEl) {{\n",
       "    x.observe(outputEl, {childList: true});\n",
       "}}\n",
       "\n",
       "                        })                };                });            </script>        </div>"
      ]
     },
     "metadata": {},
     "output_type": "display_data"
    }
   ],
   "source": [
    "plot_values(country_df_proj_values)"
   ]
  }
 ],
 "metadata": {
  "kernelspec": {
   "display_name": "Python 3.9.7 64-bit",
   "language": "python",
   "name": "python3"
  },
  "language_info": {
   "codemirror_mode": {
    "name": "ipython",
    "version": 3
   },
   "file_extension": ".py",
   "mimetype": "text/x-python",
   "name": "python",
   "nbconvert_exporter": "python",
   "pygments_lexer": "ipython3",
   "version": "3.9.7"
  },
  "orig_nbformat": 4,
  "vscode": {
   "interpreter": {
    "hash": "fb62d96c838c20e198ec9ce4431cc40e676121b89700be11e9c07639b64705ab"
   }
  }
 },
 "nbformat": 4,
 "nbformat_minor": 2
}
